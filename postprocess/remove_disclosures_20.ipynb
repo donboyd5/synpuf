{
 "cells": [
  {
   "cell_type": "markdown",
   "metadata": {},
   "source": [
    "# Remove disclosures from synpuf20"
   ]
  },
  {
   "cell_type": "markdown",
   "metadata": {},
   "source": [
    "## Setup\n",
    "\n",
    "### Imports"
   ]
  },
  {
   "cell_type": "code",
   "execution_count": 1,
   "metadata": {},
   "outputs": [],
   "source": [
    "import pandas as pd\n",
    "import numpy as np\n",
    "import synthimpute as si"
   ]
  },
  {
   "cell_type": "markdown",
   "metadata": {},
   "source": [
    "### Load data"
   ]
  },
  {
   "cell_type": "code",
   "execution_count": 2,
   "metadata": {},
   "outputs": [],
   "source": [
    "ID = 20"
   ]
  },
  {
   "cell_type": "code",
   "execution_count": 3,
   "metadata": {},
   "outputs": [],
   "source": [
    "PUF_SAMPLE_DIR = '~/Downloads/puf/'\n",
    "SYN_DIR = '~/Downloads/syntheses/'\n",
    "NEAREST_DIR = '~/Downloads/'"
   ]
  },
  {
   "cell_type": "code",
   "execution_count": 4,
   "metadata": {},
   "outputs": [],
   "source": [
    "synth = pd.read_csv(SYN_DIR + 'synpuf' + str(ID) + '.csv')\n",
    "nearest = pd.read_csv(NEAREST_DIR + 'nearest' + str(ID) + '.csv')\n",
    "train = pd.read_csv(PUF_SAMPLE_DIR + 'train100.csv')"
   ]
  },
  {
   "cell_type": "code",
   "execution_count": 5,
   "metadata": {},
   "outputs": [
    {
     "data": {
      "text/html": [
       "<div>\n",
       "<style scoped>\n",
       "    .dataframe tbody tr th:only-of-type {\n",
       "        vertical-align: middle;\n",
       "    }\n",
       "\n",
       "    .dataframe tbody tr th {\n",
       "        vertical-align: top;\n",
       "    }\n",
       "\n",
       "    .dataframe thead th {\n",
       "        text-align: right;\n",
       "    }\n",
       "</style>\n",
       "<table border=\"1\" class=\"dataframe\">\n",
       "  <thead>\n",
       "    <tr style=\"text-align: right;\">\n",
       "      <th></th>\n",
       "      <th>DSI</th>\n",
       "      <th>E00200</th>\n",
       "      <th>E00300</th>\n",
       "      <th>E00400</th>\n",
       "      <th>E00600</th>\n",
       "      <th>E00650</th>\n",
       "      <th>E00700</th>\n",
       "      <th>E00800</th>\n",
       "      <th>E00900</th>\n",
       "      <th>E01100</th>\n",
       "      <th>...</th>\n",
       "      <th>FDED</th>\n",
       "      <th>MARS</th>\n",
       "      <th>MIDR</th>\n",
       "      <th>N24</th>\n",
       "      <th>P08000</th>\n",
       "      <th>P22250</th>\n",
       "      <th>P23250</th>\n",
       "      <th>S006</th>\n",
       "      <th>XTOT</th>\n",
       "      <th>RECID</th>\n",
       "    </tr>\n",
       "  </thead>\n",
       "  <tbody>\n",
       "    <tr>\n",
       "      <th>0</th>\n",
       "      <td>0.0</td>\n",
       "      <td>176500.0</td>\n",
       "      <td>4620.0</td>\n",
       "      <td>0.0</td>\n",
       "      <td>190.0</td>\n",
       "      <td>190.0</td>\n",
       "      <td>230.0</td>\n",
       "      <td>0.0</td>\n",
       "      <td>119589.0</td>\n",
       "      <td>0.0</td>\n",
       "      <td>...</td>\n",
       "      <td>1.0</td>\n",
       "      <td>2</td>\n",
       "      <td>0.0</td>\n",
       "      <td>1.0</td>\n",
       "      <td>0.0</td>\n",
       "      <td>0.0</td>\n",
       "      <td>0.0</td>\n",
       "      <td>1015</td>\n",
       "      <td>3.0</td>\n",
       "      <td>1</td>\n",
       "    </tr>\n",
       "  </tbody>\n",
       "</table>\n",
       "<p>1 rows × 66 columns</p>\n",
       "</div>"
      ],
      "text/plain": [
       "   DSI    E00200  E00300  E00400  E00600  E00650  E00700  E00800    E00900  \\\n",
       "0  0.0  176500.0  4620.0     0.0   190.0   190.0   230.0     0.0  119589.0   \n",
       "\n",
       "   E01100  ...  FDED  MARS  MIDR  N24  P08000  P22250  P23250  S006  XTOT  \\\n",
       "0     0.0  ...   1.0     2   0.0  1.0     0.0     0.0     0.0  1015   3.0   \n",
       "\n",
       "   RECID  \n",
       "0      1  \n",
       "\n",
       "[1 rows x 66 columns]"
      ]
     },
     "execution_count": 5,
     "metadata": {},
     "output_type": "execute_result"
    }
   ],
   "source": [
    "synth.head(1)"
   ]
  },
  {
   "cell_type": "code",
   "execution_count": 6,
   "metadata": {},
   "outputs": [
    {
     "data": {
      "text/html": [
       "<div>\n",
       "<style scoped>\n",
       "    .dataframe tbody tr th:only-of-type {\n",
       "        vertical-align: middle;\n",
       "    }\n",
       "\n",
       "    .dataframe tbody tr th {\n",
       "        vertical-align: top;\n",
       "    }\n",
       "\n",
       "    .dataframe thead th {\n",
       "        text-align: right;\n",
       "    }\n",
       "</style>\n",
       "<table border=\"1\" class=\"dataframe\">\n",
       "  <thead>\n",
       "    <tr style=\"text-align: right;\">\n",
       "      <th></th>\n",
       "      <th>id_A</th>\n",
       "      <th>id_B1</th>\n",
       "      <th>dist1</th>\n",
       "      <th>id_B2</th>\n",
       "      <th>dist2</th>\n",
       "      <th>id_B3</th>\n",
       "      <th>dist3</th>\n",
       "    </tr>\n",
       "  </thead>\n",
       "  <tbody>\n",
       "    <tr>\n",
       "      <th>0</th>\n",
       "      <td>0</td>\n",
       "      <td>98408</td>\n",
       "      <td>0.221333</td>\n",
       "      <td>113108</td>\n",
       "      <td>0.298573</td>\n",
       "      <td>135299</td>\n",
       "      <td>0.362120</td>\n",
       "    </tr>\n",
       "    <tr>\n",
       "      <th>1</th>\n",
       "      <td>1</td>\n",
       "      <td>113322</td>\n",
       "      <td>0.050151</td>\n",
       "      <td>90265</td>\n",
       "      <td>0.062779</td>\n",
       "      <td>89516</td>\n",
       "      <td>0.064895</td>\n",
       "    </tr>\n",
       "    <tr>\n",
       "      <th>2</th>\n",
       "      <td>2</td>\n",
       "      <td>51274</td>\n",
       "      <td>3.824837</td>\n",
       "      <td>131622</td>\n",
       "      <td>3.911574</td>\n",
       "      <td>50354</td>\n",
       "      <td>3.918281</td>\n",
       "    </tr>\n",
       "    <tr>\n",
       "      <th>3</th>\n",
       "      <td>3</td>\n",
       "      <td>160852</td>\n",
       "      <td>0.663090</td>\n",
       "      <td>121766</td>\n",
       "      <td>0.729695</td>\n",
       "      <td>103645</td>\n",
       "      <td>0.774670</td>\n",
       "    </tr>\n",
       "    <tr>\n",
       "      <th>4</th>\n",
       "      <td>4</td>\n",
       "      <td>81262</td>\n",
       "      <td>0.334493</td>\n",
       "      <td>37695</td>\n",
       "      <td>0.488460</td>\n",
       "      <td>95821</td>\n",
       "      <td>0.532224</td>\n",
       "    </tr>\n",
       "  </tbody>\n",
       "</table>\n",
       "</div>"
      ],
      "text/plain": [
       "   id_A   id_B1     dist1   id_B2     dist2   id_B3     dist3\n",
       "0     0   98408  0.221333  113108  0.298573  135299  0.362120\n",
       "1     1  113322  0.050151   90265  0.062779   89516  0.064895\n",
       "2     2   51274  3.824837  131622  3.911574   50354  3.918281\n",
       "3     3  160852  0.663090  121766  0.729695  103645  0.774670\n",
       "4     4   81262  0.334493   37695  0.488460   95821  0.532224"
      ]
     },
     "execution_count": 6,
     "metadata": {},
     "output_type": "execute_result"
    }
   ],
   "source": [
    "nearest.head()"
   ]
  },
  {
   "cell_type": "code",
   "execution_count": 7,
   "metadata": {},
   "outputs": [],
   "source": [
    "disclosures = nearest[(nearest.dist1 == 0) & (nearest.dist2 > 0)].id_A"
   ]
  },
  {
   "cell_type": "markdown",
   "metadata": {},
   "source": [
    "Share of records to drop."
   ]
  },
  {
   "cell_type": "code",
   "execution_count": 8,
   "metadata": {},
   "outputs": [
    {
     "data": {
      "text/plain": [
       "0.08374708461040627"
      ]
     },
     "execution_count": 8,
     "metadata": {},
     "output_type": "execute_result"
    }
   ],
   "source": [
    "disclosures.shape[0] / nearest.shape[0]"
   ]
  },
  {
   "cell_type": "code",
   "execution_count": 9,
   "metadata": {},
   "outputs": [],
   "source": [
    "synth_no_disclosures = synth.drop(index=disclosures)"
   ]
  },
  {
   "cell_type": "markdown",
   "metadata": {},
   "source": [
    "This should be the same share."
   ]
  },
  {
   "cell_type": "code",
   "execution_count": 10,
   "metadata": {},
   "outputs": [
    {
     "data": {
      "text/plain": [
       "0.08374708461040625"
      ]
     },
     "execution_count": 10,
     "metadata": {},
     "output_type": "execute_result"
    }
   ],
   "source": [
    "1 - synth_no_disclosures.shape[0] / synth.shape[0]"
   ]
  },
  {
   "cell_type": "markdown",
   "metadata": {},
   "source": [
    "## Export"
   ]
  },
  {
   "cell_type": "code",
   "execution_count": 11,
   "metadata": {},
   "outputs": [],
   "source": [
    "synth_no_disclosures.to_csv('~/Downloads/synpuf20_no_disclosures.csv',\n",
    "                            index=False)"
   ]
  },
  {
   "cell_type": "markdown",
   "metadata": {},
   "source": [
    "## Checks"
   ]
  },
  {
   "cell_type": "code",
   "execution_count": 12,
   "metadata": {},
   "outputs": [],
   "source": [
    "def nonzero_rows(df):\n",
    "    if isinstance(df, pd.Series):\n",
    "        return df[df != 0]\n",
    "    return df.loc[(df!=0).any(axis=1)]"
   ]
  },
  {
   "cell_type": "markdown",
   "metadata": {},
   "source": [
    "Problematic record from earlier checks."
   ]
  },
  {
   "cell_type": "code",
   "execution_count": 13,
   "metadata": {},
   "outputs": [
    {
     "data": {
      "text/plain": [
       "E00200     25300.0\n",
       "E09800       790.0\n",
       "E87521      2500.0\n",
       "FDED           2.0\n",
       "MARS           4.0\n",
       "N24            2.0\n",
       "S006      145165.0\n",
       "XTOT           3.0\n",
       "RECID     522158.0\n",
       "Name: 522157, dtype: float64"
      ]
     },
     "execution_count": 13,
     "metadata": {},
     "output_type": "execute_result"
    }
   ],
   "source": [
    "nonzero_rows(synth.iloc[522157])"
   ]
  },
  {
   "cell_type": "code",
   "execution_count": 14,
   "metadata": {},
   "outputs": [
    {
     "data": {
      "text/plain": [
       "FDED           2.0\n",
       "MARS           4.0\n",
       "N24            2.0\n",
       "XTOT           3.0\n",
       "E00200     25300.0\n",
       "E00100     25300.0\n",
       "E09800       790.0\n",
       "E87521      2500.0\n",
       "RECID     139060.0\n",
       "S006      145165.0\n",
       "Name: 62701, dtype: float64"
      ]
     },
     "execution_count": 14,
     "metadata": {},
     "output_type": "execute_result"
    }
   ],
   "source": [
    "nonzero_rows(train.iloc[62701])"
   ]
  },
  {
   "cell_type": "markdown",
   "metadata": {},
   "source": [
    "2nd-closest record."
   ]
  },
  {
   "cell_type": "code",
   "execution_count": 15,
   "metadata": {},
   "outputs": [
    {
     "data": {
      "text/plain": [
       "EIC            1.0\n",
       "FDED           2.0\n",
       "MARS           2.0\n",
       "N24            1.0\n",
       "XTOT           4.0\n",
       "E00200     12100.0\n",
       "E02000    -11000.0\n",
       "E00100      1090.0\n",
       "E09800       680.0\n",
       "E26270    -11000.0\n",
       "RECID     105703.0\n",
       "S006      144809.0\n",
       "Name: 48383, dtype: float64"
      ]
     },
     "execution_count": 15,
     "metadata": {},
     "output_type": "execute_result"
    }
   ],
   "source": [
    "nonzero_rows(train.iloc[48383])"
   ]
  },
  {
   "cell_type": "code",
   "execution_count": 16,
   "metadata": {},
   "outputs": [
    {
     "data": {
      "text/html": [
       "<div>\n",
       "<style scoped>\n",
       "    .dataframe tbody tr th:only-of-type {\n",
       "        vertical-align: middle;\n",
       "    }\n",
       "\n",
       "    .dataframe tbody tr th {\n",
       "        vertical-align: top;\n",
       "    }\n",
       "\n",
       "    .dataframe thead th {\n",
       "        text-align: right;\n",
       "    }\n",
       "</style>\n",
       "<table border=\"1\" class=\"dataframe\">\n",
       "  <thead>\n",
       "    <tr style=\"text-align: right;\">\n",
       "      <th></th>\n",
       "      <th>DSI</th>\n",
       "      <th>E00200</th>\n",
       "      <th>E00300</th>\n",
       "      <th>E00400</th>\n",
       "      <th>E00600</th>\n",
       "      <th>E00650</th>\n",
       "      <th>E00700</th>\n",
       "      <th>E00800</th>\n",
       "      <th>E00900</th>\n",
       "      <th>E01100</th>\n",
       "      <th>...</th>\n",
       "      <th>FDED</th>\n",
       "      <th>MARS</th>\n",
       "      <th>MIDR</th>\n",
       "      <th>N24</th>\n",
       "      <th>P08000</th>\n",
       "      <th>P22250</th>\n",
       "      <th>P23250</th>\n",
       "      <th>S006</th>\n",
       "      <th>XTOT</th>\n",
       "      <th>RECID</th>\n",
       "    </tr>\n",
       "  </thead>\n",
       "  <tbody>\n",
       "  </tbody>\n",
       "</table>\n",
       "<p>0 rows × 66 columns</p>\n",
       "</div>"
      ],
      "text/plain": [
       "Empty DataFrame\n",
       "Columns: [DSI, E00200, E00300, E00400, E00600, E00650, E00700, E00800, E00900, E01100, E01200, E01400, E01500, E01700, E02000, E02100, E02300, E02400, E03150, E03210, E03220, E03230, E03240, E03270, E03290, E03300, E03400, E03500, E07240, E07260, E07300, E07400, E07600, E09700, E09800, E09900, E11200, E17500, E18400, E18500, E19200, E19800, E20100, E20400, E24515, E24518, E26270, E27200, E32800, E58990, E62900, E87521, E87530, EIC, F2441, F6251, FDED, MARS, MIDR, N24, P08000, P22250, P23250, S006, XTOT, RECID]\n",
       "Index: []\n",
       "\n",
       "[0 rows x 66 columns]"
      ]
     },
     "execution_count": 16,
     "metadata": {},
     "output_type": "execute_result"
    }
   ],
   "source": [
    "synth_no_disclosures[(synth_no_disclosures.E00200 == 25300) &\n",
    "                     (synth_no_disclosures.E09800 == 790) &\n",
    "                     (synth_no_disclosures.E87521 == 2500) &\n",
    "                     (synth_no_disclosures.FDED == 2) &\n",
    "                     (synth_no_disclosures.MARS == 4) &\n",
    "                     (synth_no_disclosures.N24 == 2) &\n",
    "                     (synth_no_disclosures.XTOT == 3)]"
   ]
  },
  {
   "cell_type": "markdown",
   "metadata": {},
   "source": [
    "Single record in the training set has these characteristics."
   ]
  },
  {
   "cell_type": "code",
   "execution_count": 18,
   "metadata": {},
   "outputs": [
    {
     "data": {
      "text/html": [
       "<div>\n",
       "<style scoped>\n",
       "    .dataframe tbody tr th:only-of-type {\n",
       "        vertical-align: middle;\n",
       "    }\n",
       "\n",
       "    .dataframe tbody tr th {\n",
       "        vertical-align: top;\n",
       "    }\n",
       "\n",
       "    .dataframe thead th {\n",
       "        text-align: right;\n",
       "    }\n",
       "</style>\n",
       "<table border=\"1\" class=\"dataframe\">\n",
       "  <thead>\n",
       "    <tr style=\"text-align: right;\">\n",
       "      <th></th>\n",
       "      <th>DSI</th>\n",
       "      <th>EIC</th>\n",
       "      <th>FDED</th>\n",
       "      <th>F2441</th>\n",
       "      <th>F6251</th>\n",
       "      <th>MARS</th>\n",
       "      <th>MIDR</th>\n",
       "      <th>N24</th>\n",
       "      <th>XTOT</th>\n",
       "      <th>E00200</th>\n",
       "      <th>...</th>\n",
       "      <th>E27200</th>\n",
       "      <th>E32800</th>\n",
       "      <th>E58990</th>\n",
       "      <th>E62900</th>\n",
       "      <th>E87521</th>\n",
       "      <th>E87530</th>\n",
       "      <th>RECID</th>\n",
       "      <th>S006</th>\n",
       "      <th>e00600_minus_e00650</th>\n",
       "      <th>e01500_minus_e01700</th>\n",
       "    </tr>\n",
       "  </thead>\n",
       "  <tbody>\n",
       "    <tr>\n",
       "      <th>62701</th>\n",
       "      <td>0</td>\n",
       "      <td>0</td>\n",
       "      <td>2</td>\n",
       "      <td>0</td>\n",
       "      <td>0</td>\n",
       "      <td>4</td>\n",
       "      <td>0</td>\n",
       "      <td>2</td>\n",
       "      <td>3</td>\n",
       "      <td>25300.0</td>\n",
       "      <td>...</td>\n",
       "      <td>0.0</td>\n",
       "      <td>0</td>\n",
       "      <td>0.0</td>\n",
       "      <td>0.0</td>\n",
       "      <td>2500.0</td>\n",
       "      <td>0</td>\n",
       "      <td>139060</td>\n",
       "      <td>145165</td>\n",
       "      <td>0.0</td>\n",
       "      <td>0.0</td>\n",
       "    </tr>\n",
       "  </tbody>\n",
       "</table>\n",
       "<p>1 rows × 68 columns</p>\n",
       "</div>"
      ],
      "text/plain": [
       "       DSI  EIC  FDED  F2441  F6251  MARS  MIDR  N24  XTOT   E00200  ...  \\\n",
       "62701    0    0     2      0      0     4     0    2     3  25300.0  ...   \n",
       "\n",
       "       E27200  E32800  E58990  E62900  E87521  E87530   RECID    S006  \\\n",
       "62701     0.0       0     0.0     0.0  2500.0       0  139060  145165   \n",
       "\n",
       "       e00600_minus_e00650  e01500_minus_e01700  \n",
       "62701                  0.0                  0.0  \n",
       "\n",
       "[1 rows x 68 columns]"
      ]
     },
     "execution_count": 18,
     "metadata": {},
     "output_type": "execute_result"
    }
   ],
   "source": [
    "train[(train.E00200 == 25300) &\n",
    "      (train.E09800 == 790) &\n",
    "      (train.E87521 == 2500) &\n",
    "      (train.FDED == 2) &\n",
    "      (train.MARS == 4) &\n",
    "      (train.N24 == 2) &\n",
    "      (train.XTOT == 3)]"
   ]
  },
  {
   "cell_type": "code",
   "execution_count": 17,
   "metadata": {},
   "outputs": [
    {
     "data": {
      "text/plain": [
       "1"
      ]
     },
     "execution_count": 17,
     "metadata": {},
     "output_type": "execute_result"
    }
   ],
   "source": [
    "(disclosures.values == 522157).sum()"
   ]
  }
 ],
 "metadata": {
  "kernelspec": {
   "display_name": "Python 3",
   "language": "python",
   "name": "python3"
  },
  "language_info": {
   "codemirror_mode": {
    "name": "ipython",
    "version": 3
   },
   "file_extension": ".py",
   "mimetype": "text/x-python",
   "name": "python",
   "nbconvert_exporter": "python",
   "pygments_lexer": "ipython3",
   "version": "3.7.4"
  },
  "toc": {
   "base_numbering": 1,
   "nav_menu": {},
   "number_sections": true,
   "sideBar": true,
   "skip_h1_title": false,
   "title_cell": "Table of Contents",
   "title_sidebar": "Contents",
   "toc_cell": false,
   "toc_position": {},
   "toc_section_display": true,
   "toc_window_display": false
  }
 },
 "nbformat": 4,
 "nbformat_minor": 2
}
