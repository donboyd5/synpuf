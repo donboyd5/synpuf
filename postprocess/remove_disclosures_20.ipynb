{
 "cells": [
  {
   "cell_type": "markdown",
   "metadata": {},
   "source": [
    "# Remove disclosures from synpuf20"
   ]
  },
  {
   "cell_type": "markdown",
   "metadata": {},
   "source": [
    "## Setup\n",
    "\n",
    "### Imports"
   ]
  },
  {
   "cell_type": "code",
   "execution_count": 1,
   "metadata": {},
   "outputs": [],
   "source": [
    "import pandas as pd\n",
    "import numpy as np\n",
    "import synthimpute as si"
   ]
  },
  {
   "cell_type": "markdown",
   "metadata": {},
   "source": [
    "### Load data"
   ]
  },
  {
   "cell_type": "code",
   "execution_count": 2,
   "metadata": {},
   "outputs": [],
   "source": [
    "ID = 20"
   ]
  },
  {
   "cell_type": "code",
   "execution_count": 3,
   "metadata": {},
   "outputs": [],
   "source": [
    "PUF_SAMPLE_DIR = '~/Downloads/puf/'\n",
    "SYN_DIR = '~/Downloads/syntheses/'\n",
    "NEAREST_DIR = '~/Downloads/'"
   ]
  },
  {
   "cell_type": "code",
   "execution_count": 4,
   "metadata": {},
   "outputs": [],
   "source": [
    "synth = pd.read_csv(SYN_DIR + 'synpuf' + str(ID) + '.csv')\n",
    "nearest = pd.read_csv(NEAREST_DIR + 'nearest' + str(ID) + '.csv')\n",
    "train = pd.read_csv(PUF_SAMPLE_DIR + 'train100.csv')"
   ]
  },
  {
   "cell_type": "code",
   "execution_count": 5,
   "metadata": {},
   "outputs": [
    {
     "data": {
      "text/html": [
       "<div>\n",
       "<style scoped>\n",
       "    .dataframe tbody tr th:only-of-type {\n",
       "        vertical-align: middle;\n",
       "    }\n",
       "\n",
       "    .dataframe tbody tr th {\n",
       "        vertical-align: top;\n",
       "    }\n",
       "\n",
       "    .dataframe thead th {\n",
       "        text-align: right;\n",
       "    }\n",
       "</style>\n",
       "<table border=\"1\" class=\"dataframe\">\n",
       "  <thead>\n",
       "    <tr style=\"text-align: right;\">\n",
       "      <th></th>\n",
       "      <th>DSI</th>\n",
       "      <th>E00200</th>\n",
       "      <th>E00300</th>\n",
       "      <th>E00400</th>\n",
       "      <th>E00600</th>\n",
       "      <th>E00650</th>\n",
       "      <th>E00700</th>\n",
       "      <th>E00800</th>\n",
       "      <th>E00900</th>\n",
       "      <th>E01100</th>\n",
       "      <th>...</th>\n",
       "      <th>FDED</th>\n",
       "      <th>MARS</th>\n",
       "      <th>MIDR</th>\n",
       "      <th>N24</th>\n",
       "      <th>P08000</th>\n",
       "      <th>P22250</th>\n",
       "      <th>P23250</th>\n",
       "      <th>S006</th>\n",
       "      <th>XTOT</th>\n",
       "      <th>RECID</th>\n",
       "    </tr>\n",
       "  </thead>\n",
       "  <tbody>\n",
       "    <tr>\n",
       "      <th>0</th>\n",
       "      <td>0.0</td>\n",
       "      <td>176500.0</td>\n",
       "      <td>4620.0</td>\n",
       "      <td>0.0</td>\n",
       "      <td>190.0</td>\n",
       "      <td>190.0</td>\n",
       "      <td>230.0</td>\n",
       "      <td>0.0</td>\n",
       "      <td>119589.0</td>\n",
       "      <td>0.0</td>\n",
       "      <td>...</td>\n",
       "      <td>1.0</td>\n",
       "      <td>2</td>\n",
       "      <td>0.0</td>\n",
       "      <td>1.0</td>\n",
       "      <td>0.0</td>\n",
       "      <td>0.0</td>\n",
       "      <td>0.0</td>\n",
       "      <td>1015</td>\n",
       "      <td>3.0</td>\n",
       "      <td>1</td>\n",
       "    </tr>\n",
       "  </tbody>\n",
       "</table>\n",
       "<p>1 rows × 66 columns</p>\n",
       "</div>"
      ],
      "text/plain": [
       "   DSI    E00200  E00300  E00400  E00600  E00650  E00700  E00800    E00900  \\\n",
       "0  0.0  176500.0  4620.0     0.0   190.0   190.0   230.0     0.0  119589.0   \n",
       "\n",
       "   E01100  ...  FDED  MARS  MIDR  N24  P08000  P22250  P23250  S006  XTOT  \\\n",
       "0     0.0  ...   1.0     2   0.0  1.0     0.0     0.0     0.0  1015   3.0   \n",
       "\n",
       "   RECID  \n",
       "0      1  \n",
       "\n",
       "[1 rows x 66 columns]"
      ]
     },
     "execution_count": 5,
     "metadata": {},
     "output_type": "execute_result"
    }
   ],
   "source": [
    "synth.head(1)"
   ]
  },
  {
   "cell_type": "code",
   "execution_count": 6,
   "metadata": {},
   "outputs": [
    {
     "data": {
      "text/html": [
       "<div>\n",
       "<style scoped>\n",
       "    .dataframe tbody tr th:only-of-type {\n",
       "        vertical-align: middle;\n",
       "    }\n",
       "\n",
       "    .dataframe tbody tr th {\n",
       "        vertical-align: top;\n",
       "    }\n",
       "\n",
       "    .dataframe thead th {\n",
       "        text-align: right;\n",
       "    }\n",
       "</style>\n",
       "<table border=\"1\" class=\"dataframe\">\n",
       "  <thead>\n",
       "    <tr style=\"text-align: right;\">\n",
       "      <th></th>\n",
       "      <th>id_A</th>\n",
       "      <th>id_B1</th>\n",
       "      <th>dist1</th>\n",
       "      <th>id_B2</th>\n",
       "      <th>dist2</th>\n",
       "      <th>id_B3</th>\n",
       "      <th>dist3</th>\n",
       "    </tr>\n",
       "  </thead>\n",
       "  <tbody>\n",
       "    <tr>\n",
       "      <th>0</th>\n",
       "      <td>0</td>\n",
       "      <td>98408</td>\n",
       "      <td>0.221333</td>\n",
       "      <td>113108</td>\n",
       "      <td>0.298573</td>\n",
       "      <td>135299</td>\n",
       "      <td>0.362120</td>\n",
       "    </tr>\n",
       "    <tr>\n",
       "      <th>1</th>\n",
       "      <td>1</td>\n",
       "      <td>113322</td>\n",
       "      <td>0.050151</td>\n",
       "      <td>90265</td>\n",
       "      <td>0.062779</td>\n",
       "      <td>89516</td>\n",
       "      <td>0.064895</td>\n",
       "    </tr>\n",
       "    <tr>\n",
       "      <th>2</th>\n",
       "      <td>2</td>\n",
       "      <td>51274</td>\n",
       "      <td>3.824837</td>\n",
       "      <td>131622</td>\n",
       "      <td>3.911574</td>\n",
       "      <td>50354</td>\n",
       "      <td>3.918281</td>\n",
       "    </tr>\n",
       "    <tr>\n",
       "      <th>3</th>\n",
       "      <td>3</td>\n",
       "      <td>160852</td>\n",
       "      <td>0.663090</td>\n",
       "      <td>121766</td>\n",
       "      <td>0.729695</td>\n",
       "      <td>103645</td>\n",
       "      <td>0.774670</td>\n",
       "    </tr>\n",
       "    <tr>\n",
       "      <th>4</th>\n",
       "      <td>4</td>\n",
       "      <td>81262</td>\n",
       "      <td>0.334493</td>\n",
       "      <td>37695</td>\n",
       "      <td>0.488460</td>\n",
       "      <td>95821</td>\n",
       "      <td>0.532224</td>\n",
       "    </tr>\n",
       "  </tbody>\n",
       "</table>\n",
       "</div>"
      ],
      "text/plain": [
       "   id_A   id_B1     dist1   id_B2     dist2   id_B3     dist3\n",
       "0     0   98408  0.221333  113108  0.298573  135299  0.362120\n",
       "1     1  113322  0.050151   90265  0.062779   89516  0.064895\n",
       "2     2   51274  3.824837  131622  3.911574   50354  3.918281\n",
       "3     3  160852  0.663090  121766  0.729695  103645  0.774670\n",
       "4     4   81262  0.334493   37695  0.488460   95821  0.532224"
      ]
     },
     "execution_count": 6,
     "metadata": {},
     "output_type": "execute_result"
    }
   ],
   "source": [
    "nearest.head()"
   ]
  },
  {
   "cell_type": "code",
   "execution_count": 7,
   "metadata": {},
   "outputs": [],
   "source": [
    "disclosures = nearest[(nearest.dist1 == 0) & (nearest.dist2 > 0)].id_A"
   ]
  },
  {
   "cell_type": "markdown",
   "metadata": {},
   "source": [
    "Share of records to drop."
   ]
  },
  {
   "cell_type": "code",
   "execution_count": 8,
   "metadata": {},
   "outputs": [
    {
     "data": {
      "text/plain": [
       "0.08374708461040627"
      ]
     },
     "execution_count": 8,
     "metadata": {},
     "output_type": "execute_result"
    }
   ],
   "source": [
    "disclosures.shape[0] / nearest.shape[0]"
   ]
  },
  {
   "cell_type": "code",
   "execution_count": 9,
   "metadata": {},
   "outputs": [],
   "source": [
    "synth_no_disclosures = synth.drop(index=disclosures)"
   ]
  },
  {
   "cell_type": "markdown",
   "metadata": {},
   "source": [
    "This should be the same share."
   ]
  },
  {
   "cell_type": "code",
   "execution_count": 10,
   "metadata": {},
   "outputs": [
    {
     "data": {
      "text/plain": [
       "0.08374708461040625"
      ]
     },
     "execution_count": 10,
     "metadata": {},
     "output_type": "execute_result"
    }
   ],
   "source": [
    "1 - synth_no_disclosures.shape[0] / synth.shape[0]"
   ]
  },
  {
   "cell_type": "markdown",
   "metadata": {},
   "source": [
    "## Export"
   ]
  },
  {
   "cell_type": "code",
   "execution_count": 11,
   "metadata": {},
   "outputs": [],
   "source": [
    "synth_no_disclosures.to_csv('~/Downloads/synpuf20_no_disclosures.csv',\n",
    "                            index=False)"
   ]
  }
 ],
 "metadata": {
  "kernelspec": {
   "display_name": "Python 3",
   "language": "python",
   "name": "python3"
  },
  "language_info": {
   "codemirror_mode": {
    "name": "ipython",
    "version": 3
   },
   "file_extension": ".py",
   "mimetype": "text/x-python",
   "name": "python",
   "nbconvert_exporter": "python",
   "pygments_lexer": "ipython3",
   "version": "3.7.4"
  },
  "toc": {
   "base_numbering": 1,
   "nav_menu": {},
   "number_sections": true,
   "sideBar": true,
   "skip_h1_title": false,
   "title_cell": "Table of Contents",
   "title_sidebar": "Contents",
   "toc_cell": false,
   "toc_position": {},
   "toc_section_display": true,
   "toc_window_display": false
  }
 },
 "nbformat": 4,
 "nbformat_minor": 2
}
