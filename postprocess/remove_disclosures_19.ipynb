{
 "cells": [
  {
   "cell_type": "markdown",
   "metadata": {},
   "source": [
    "# Remove disclosures from synpuf19"
   ]
  },
  {
   "cell_type": "markdown",
   "metadata": {},
   "source": [
    "## Setup\n",
    "\n",
    "### Imports"
   ]
  },
  {
   "cell_type": "code",
   "execution_count": 1,
   "metadata": {},
   "outputs": [],
   "source": [
    "import pandas as pd\n",
    "import numpy as np\n",
    "import synthimpute as si"
   ]
  },
  {
   "cell_type": "markdown",
   "metadata": {},
   "source": [
    "### Load data"
   ]
  },
  {
   "cell_type": "code",
   "execution_count": 2,
   "metadata": {},
   "outputs": [],
   "source": [
    "ID = 19"
   ]
  },
  {
   "cell_type": "code",
   "execution_count": 3,
   "metadata": {},
   "outputs": [],
   "source": [
    "PUF_SAMPLE_DIR = '~/Downloads/puf/'\n",
    "SYN_DIR = '~/Downloads/syntheses/'\n",
    "NEAREST_DIR = '~/Downloads/'"
   ]
  },
  {
   "cell_type": "code",
   "execution_count": 4,
   "metadata": {},
   "outputs": [],
   "source": [
    "synth = pd.read_csv(SYN_DIR + 'synpuf' + str(ID) + '.csv')\n",
    "nearest = pd.read_csv(NEAREST_DIR + 'nearest' + str(ID) + '.csv')\n",
    "train = pd.read_csv(PUF_SAMPLE_DIR + 'train100.csv')"
   ]
  },
  {
   "cell_type": "code",
   "execution_count": 5,
   "metadata": {},
   "outputs": [
    {
     "data": {
      "text/html": [
       "<div>\n",
       "<style scoped>\n",
       "    .dataframe tbody tr th:only-of-type {\n",
       "        vertical-align: middle;\n",
       "    }\n",
       "\n",
       "    .dataframe tbody tr th {\n",
       "        vertical-align: top;\n",
       "    }\n",
       "\n",
       "    .dataframe thead th {\n",
       "        text-align: right;\n",
       "    }\n",
       "</style>\n",
       "<table border=\"1\" class=\"dataframe\">\n",
       "  <thead>\n",
       "    <tr style=\"text-align: right;\">\n",
       "      <th></th>\n",
       "      <th>Unnamed: 0</th>\n",
       "      <th>DSI</th>\n",
       "      <th>EIC</th>\n",
       "      <th>FDED</th>\n",
       "      <th>F2441</th>\n",
       "      <th>F6251</th>\n",
       "      <th>MARS</th>\n",
       "      <th>MIDR</th>\n",
       "      <th>N24</th>\n",
       "      <th>XTOT</th>\n",
       "      <th>...</th>\n",
       "      <th>E32800</th>\n",
       "      <th>E58990</th>\n",
       "      <th>E62900</th>\n",
       "      <th>E87521</th>\n",
       "      <th>E87530</th>\n",
       "      <th>S006</th>\n",
       "      <th>e00600_minus_e00650</th>\n",
       "      <th>e01500_minus_e01700</th>\n",
       "      <th>E00600</th>\n",
       "      <th>E01500</th>\n",
       "    </tr>\n",
       "  </thead>\n",
       "  <tbody>\n",
       "    <tr>\n",
       "      <th>0</th>\n",
       "      <td>0</td>\n",
       "      <td>0</td>\n",
       "      <td>0</td>\n",
       "      <td>1</td>\n",
       "      <td>0</td>\n",
       "      <td>0</td>\n",
       "      <td>1</td>\n",
       "      <td>0</td>\n",
       "      <td>0</td>\n",
       "      <td>1</td>\n",
       "      <td>...</td>\n",
       "      <td>0</td>\n",
       "      <td>0</td>\n",
       "      <td>0</td>\n",
       "      <td>0</td>\n",
       "      <td>0</td>\n",
       "      <td>143110.0</td>\n",
       "      <td>0.0</td>\n",
       "      <td>10700</td>\n",
       "      <td>150</td>\n",
       "      <td>23500</td>\n",
       "    </tr>\n",
       "  </tbody>\n",
       "</table>\n",
       "<p>1 rows × 68 columns</p>\n",
       "</div>"
      ],
      "text/plain": [
       "   Unnamed: 0  DSI  EIC  FDED  F2441  F6251  MARS  MIDR  N24  XTOT  ...  \\\n",
       "0           0    0    0     1      0      0     1     0    0     1  ...   \n",
       "\n",
       "   E32800  E58990  E62900  E87521  E87530      S006  e00600_minus_e00650  \\\n",
       "0       0       0       0       0       0  143110.0                  0.0   \n",
       "\n",
       "   e01500_minus_e01700  E00600  E01500  \n",
       "0                10700     150   23500  \n",
       "\n",
       "[1 rows x 68 columns]"
      ]
     },
     "execution_count": 5,
     "metadata": {},
     "output_type": "execute_result"
    }
   ],
   "source": [
    "synth.head(1)"
   ]
  },
  {
   "cell_type": "code",
   "execution_count": 6,
   "metadata": {},
   "outputs": [
    {
     "data": {
      "text/html": [
       "<div>\n",
       "<style scoped>\n",
       "    .dataframe tbody tr th:only-of-type {\n",
       "        vertical-align: middle;\n",
       "    }\n",
       "\n",
       "    .dataframe tbody tr th {\n",
       "        vertical-align: top;\n",
       "    }\n",
       "\n",
       "    .dataframe thead th {\n",
       "        text-align: right;\n",
       "    }\n",
       "</style>\n",
       "<table border=\"1\" class=\"dataframe\">\n",
       "  <thead>\n",
       "    <tr style=\"text-align: right;\">\n",
       "      <th></th>\n",
       "      <th>id_A</th>\n",
       "      <th>id_B1</th>\n",
       "      <th>dist1</th>\n",
       "      <th>id_B2</th>\n",
       "      <th>dist2</th>\n",
       "      <th>id_B3</th>\n",
       "      <th>dist3</th>\n",
       "    </tr>\n",
       "  </thead>\n",
       "  <tbody>\n",
       "    <tr>\n",
       "      <th>0</th>\n",
       "      <td>0</td>\n",
       "      <td>64339</td>\n",
       "      <td>0.114358</td>\n",
       "      <td>46388</td>\n",
       "      <td>0.116741</td>\n",
       "      <td>56303</td>\n",
       "      <td>0.124340</td>\n",
       "    </tr>\n",
       "    <tr>\n",
       "      <th>1</th>\n",
       "      <td>1</td>\n",
       "      <td>141466</td>\n",
       "      <td>0.167488</td>\n",
       "      <td>139574</td>\n",
       "      <td>0.191652</td>\n",
       "      <td>144089</td>\n",
       "      <td>0.225968</td>\n",
       "    </tr>\n",
       "    <tr>\n",
       "      <th>2</th>\n",
       "      <td>2</td>\n",
       "      <td>120794</td>\n",
       "      <td>0.000000</td>\n",
       "      <td>64622</td>\n",
       "      <td>0.000000</td>\n",
       "      <td>99507</td>\n",
       "      <td>0.000000</td>\n",
       "    </tr>\n",
       "    <tr>\n",
       "      <th>3</th>\n",
       "      <td>3</td>\n",
       "      <td>88801</td>\n",
       "      <td>0.000045</td>\n",
       "      <td>46747</td>\n",
       "      <td>0.000356</td>\n",
       "      <td>45107</td>\n",
       "      <td>0.000364</td>\n",
       "    </tr>\n",
       "    <tr>\n",
       "      <th>4</th>\n",
       "      <td>4</td>\n",
       "      <td>48130</td>\n",
       "      <td>0.028704</td>\n",
       "      <td>19646</td>\n",
       "      <td>0.247477</td>\n",
       "      <td>53481</td>\n",
       "      <td>0.277319</td>\n",
       "    </tr>\n",
       "  </tbody>\n",
       "</table>\n",
       "</div>"
      ],
      "text/plain": [
       "   id_A   id_B1     dist1   id_B2     dist2   id_B3     dist3\n",
       "0     0   64339  0.114358   46388  0.116741   56303  0.124340\n",
       "1     1  141466  0.167488  139574  0.191652  144089  0.225968\n",
       "2     2  120794  0.000000   64622  0.000000   99507  0.000000\n",
       "3     3   88801  0.000045   46747  0.000356   45107  0.000364\n",
       "4     4   48130  0.028704   19646  0.247477   53481  0.277319"
      ]
     },
     "execution_count": 6,
     "metadata": {},
     "output_type": "execute_result"
    }
   ],
   "source": [
    "nearest.head()"
   ]
  },
  {
   "cell_type": "code",
   "execution_count": 7,
   "metadata": {},
   "outputs": [],
   "source": [
    "disclosures = nearest[(nearest.dist1 == 0) & (nearest.dist2 > 0)].id_A"
   ]
  },
  {
   "cell_type": "markdown",
   "metadata": {},
   "source": [
    "Share of records to drop."
   ]
  },
  {
   "cell_type": "code",
   "execution_count": 8,
   "metadata": {},
   "outputs": [
    {
     "data": {
      "text/plain": [
       "0.019772141697092547"
      ]
     },
     "execution_count": 8,
     "metadata": {},
     "output_type": "execute_result"
    }
   ],
   "source": [
    "disclosures.shape[0] / nearest.shape[0]"
   ]
  },
  {
   "cell_type": "code",
   "execution_count": 9,
   "metadata": {},
   "outputs": [],
   "source": [
    "synth_no_disclosures = synth.drop(index=disclosures)"
   ]
  },
  {
   "cell_type": "markdown",
   "metadata": {},
   "source": [
    "This should be the same share."
   ]
  },
  {
   "cell_type": "code",
   "execution_count": 10,
   "metadata": {},
   "outputs": [
    {
     "data": {
      "text/plain": [
       "0.016476784747577078"
      ]
     },
     "execution_count": 10,
     "metadata": {},
     "output_type": "execute_result"
    }
   ],
   "source": [
    "1 - synth_no_disclosures.shape[0] / synth.shape[0]"
   ]
  },
  {
   "cell_type": "markdown",
   "metadata": {},
   "source": [
    "## Export"
   ]
  },
  {
   "cell_type": "code",
   "execution_count": 11,
   "metadata": {},
   "outputs": [],
   "source": [
    "synth_no_disclosures.to_csv('~/Downloads/synpuf19_no_disclosures.csv',\n",
    "                            index=False)"
   ]
  }
 ],
 "metadata": {
  "kernelspec": {
   "display_name": "Python 3",
   "language": "python",
   "name": "python3"
  },
  "language_info": {
   "codemirror_mode": {
    "name": "ipython",
    "version": 3
   },
   "file_extension": ".py",
   "mimetype": "text/x-python",
   "name": "python",
   "nbconvert_exporter": "python",
   "pygments_lexer": "ipython3",
   "version": "3.7.4"
  },
  "toc": {
   "base_numbering": 1,
   "nav_menu": {},
   "number_sections": true,
   "sideBar": true,
   "skip_h1_title": false,
   "title_cell": "Table of Contents",
   "title_sidebar": "Contents",
   "toc_cell": false,
   "toc_position": {},
   "toc_section_display": true,
   "toc_window_display": false
  }
 },
 "nbformat": 4,
 "nbformat_minor": 2
}
