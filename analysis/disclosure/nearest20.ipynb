{
 "cells": [
  {
   "cell_type": "markdown",
   "metadata": {},
   "source": [
    "# Generate synpuf disclosure risk\n",
    "\n",
    "Compare synthetic PUFs trained from a 10% sample, both to the training set and a 10% holdout. Synthetic file (1) is from synthimpute random forests; (2) is from the synthpop R package."
   ]
  },
  {
   "cell_type": "markdown",
   "metadata": {},
   "source": [
    "## Setup\n",
    "\n",
    "### Imports"
   ]
  },
  {
   "cell_type": "code",
   "execution_count": 1,
   "metadata": {},
   "outputs": [],
   "source": [
    "import pandas as pd\n",
    "import numpy as np\n",
    "import synthimpute as si\n",
    "import synpuf"
   ]
  },
  {
   "cell_type": "markdown",
   "metadata": {},
   "source": [
    "**UPDATE!**"
   ]
  },
  {
   "cell_type": "code",
   "execution_count": 2,
   "metadata": {},
   "outputs": [],
   "source": [
    "SYNTHESIS_ID = 20\n",
    "PCT_TRAIN = 100"
   ]
  },
  {
   "cell_type": "markdown",
   "metadata": {},
   "source": [
    "Folders."
   ]
  },
  {
   "cell_type": "code",
   "execution_count": 3,
   "metadata": {},
   "outputs": [],
   "source": [
    "PUF_SAMPLE_DIR = '~/Downloads/puf/'\n",
    "SYN_DIR = '~/Downloads/syntheses/'\n",
    "NEAREST_DIR = '~/Downloads/nearest/'"
   ]
  },
  {
   "cell_type": "markdown",
   "metadata": {},
   "source": [
    "### Load data"
   ]
  },
  {
   "cell_type": "code",
   "execution_count": 4,
   "metadata": {},
   "outputs": [],
   "source": [
    "synth = pd.read_csv(SYN_DIR + 'synpuf' + str(SYNTHESIS_ID) + '.csv')\n",
    "train = pd.read_csv(PUF_SAMPLE_DIR + 'puf.csv')"
   ]
  },
  {
   "cell_type": "markdown",
   "metadata": {},
   "source": [
    "## Preprocessing"
   ]
  },
  {
   "cell_type": "markdown",
   "metadata": {},
   "source": [
    "Drop calculated features used as seeds, and drop s006."
   ]
  },
  {
   "cell_type": "code",
   "execution_count": 5,
   "metadata": {},
   "outputs": [],
   "source": [
    "synpuf.add_subtracted_features(train)\n",
    "DROPS = ['S006', 'e00600_minus_e00650', 'e01500_minus_e01700',\n",
    "         'RECID', 'E00100', 'E09600']\n",
    "train.drop(DROPS, axis=1, inplace=True)\n",
    "synth.columns = [x.upper() for x in synth.columns]\n",
    "synth = synth[train.columns]"
   ]
  },
  {
   "cell_type": "code",
   "execution_count": 6,
   "metadata": {},
   "outputs": [
    {
     "data": {
      "text/plain": [
       "Index(['DSI', 'EIC', 'FDED', 'F2441', 'F6251', 'MARS', 'MIDR', 'N24', 'XTOT',\n",
       "       'E00200', 'E00300', 'E00400', 'E00650', 'E00700', 'E00800', 'E00900',\n",
       "       'E01100', 'E01200', 'E01400', 'E01700', 'E02000', 'E02100', 'E02300',\n",
       "       'E02400', 'E03150', 'E03210', 'E03220', 'E03230', 'E03270', 'E03240',\n",
       "       'E03290', 'E03300', 'E03400', 'E03500', 'E07240', 'E07260', 'E07300',\n",
       "       'E07400', 'E07600', 'P08000', 'E09700', 'E09800', 'E09900', 'E11200',\n",
       "       'E17500', 'E18400', 'E18500', 'E19200', 'E19800', 'E20100', 'E20400',\n",
       "       'P22250', 'P23250', 'E24515', 'E24518', 'E26270', 'E27200', 'E32800',\n",
       "       'E58990', 'E62900', 'E87521', 'E87530', 'E00600', 'E01500'],\n",
       "      dtype='object')"
      ]
     },
     "execution_count": 6,
     "metadata": {},
     "output_type": "execute_result"
    }
   ],
   "source": [
    "synth.columns"
   ]
  },
  {
   "cell_type": "code",
   "execution_count": 7,
   "metadata": {},
   "outputs": [],
   "source": [
    "synth.reset_index(drop=True, inplace=True)\n",
    "train.reset_index(drop=True, inplace=True)"
   ]
  },
  {
   "cell_type": "markdown",
   "metadata": {},
   "source": [
    "## Nearest calculation\n",
    "\n",
    "Compare nearest standardized Euclidean distance. Takes ~10 hours."
   ]
  },
  {
   "cell_type": "code",
   "execution_count": 8,
   "metadata": {},
   "outputs": [
    {
     "name": "stdout",
     "output_type": "stream",
     "text": [
      "CPU times: user 13h 26min 29s, sys: 6h 57min 24s, total: 20h 23min 53s\n",
      "Wall time: 20h 51min 49s\n"
     ]
    }
   ],
   "source": [
    "%%time\n",
    "nearest = si.nearest_record(synth, #.sample(frac=0.01),\n",
    "                            train, k=3, scale=True)"
   ]
  },
  {
   "cell_type": "code",
   "execution_count": 9,
   "metadata": {},
   "outputs": [],
   "source": [
    "nearest.to_csv(NEAREST_DIR + 'nearest' + str(SYNTHESIS_ID) + '.csv',\n",
    "               index=False)"
   ]
  },
  {
   "cell_type": "code",
   "execution_count": 10,
   "metadata": {},
   "outputs": [],
   "source": [
    "n = nearest.copy(deep=True)"
   ]
  },
  {
   "cell_type": "code",
   "execution_count": 11,
   "metadata": {},
   "outputs": [],
   "source": [
    "ndist = n[['dist1', 'dist2', 'dist3']]\n",
    "n['min_dist'] = ndist.min(axis=1)\n",
    "n['max_dist'] = ndist.max(axis=1)\n",
    "n['mid_dist'] = ndist.sum(axis=1) - n.min_dist - n.max_dist"
   ]
  },
  {
   "cell_type": "code",
   "execution_count": 12,
   "metadata": {},
   "outputs": [],
   "source": [
    "n['min_id'] = np.where(n.min_dist == n.dist1, n.id_B1,\n",
    "                       np.where(n.min_dist == n.dist2, n.id_B2, n.id_B3))\n",
    "# Run through these in a different order to avoid using the same ID\n",
    "# for min and max, if they have the same distance (e.g. exact matches).\n",
    "n['max_id'] = np.where(n.max_dist == n.dist3, n.id_B3,\n",
    "                       np.where(n.max_dist == n.dist2, n.id_B2, n.id_B1))\n",
    "n['mid_id'] = n[['id_B1', 'id_B2', 'id_B3']].sum(axis=1) - n.min_id - n.max_id"
   ]
  },
  {
   "cell_type": "code",
   "execution_count": 13,
   "metadata": {},
   "outputs": [],
   "source": [
    "n['id_B1'] = n.min_id\n",
    "n['id_B2'] = n.mid_id\n",
    "n['id_B3'] = n.max_id\n",
    "\n",
    "n['dist1'] = n.min_dist\n",
    "n['dist2'] = n.mid_dist\n",
    "n['dist3'] = n.max_dist"
   ]
  },
  {
   "cell_type": "code",
   "execution_count": 14,
   "metadata": {},
   "outputs": [
    {
     "data": {
      "text/html": [
       "<div>\n",
       "<style scoped>\n",
       "    .dataframe tbody tr th:only-of-type {\n",
       "        vertical-align: middle;\n",
       "    }\n",
       "\n",
       "    .dataframe tbody tr th {\n",
       "        vertical-align: top;\n",
       "    }\n",
       "\n",
       "    .dataframe thead th {\n",
       "        text-align: right;\n",
       "    }\n",
       "</style>\n",
       "<table border=\"1\" class=\"dataframe\">\n",
       "  <thead>\n",
       "    <tr style=\"text-align: right;\">\n",
       "      <th></th>\n",
       "      <th>id_A</th>\n",
       "      <th>id_B1</th>\n",
       "      <th>dist1</th>\n",
       "      <th>id_B2</th>\n",
       "      <th>dist2</th>\n",
       "      <th>id_B3</th>\n",
       "      <th>dist3</th>\n",
       "    </tr>\n",
       "  </thead>\n",
       "  <tbody>\n",
       "    <tr>\n",
       "      <th>count</th>\n",
       "      <td>818930.000000</td>\n",
       "      <td>818930.000000</td>\n",
       "      <td>818930.000000</td>\n",
       "      <td>818930.000000</td>\n",
       "      <td>818930.000000</td>\n",
       "      <td>818930.000000</td>\n",
       "      <td>818930.000000</td>\n",
       "    </tr>\n",
       "    <tr>\n",
       "      <th>mean</th>\n",
       "      <td>409464.500000</td>\n",
       "      <td>78952.354800</td>\n",
       "      <td>0.967648</td>\n",
       "      <td>78743.284840</td>\n",
       "      <td>1.134613</td>\n",
       "      <td>78542.301992</td>\n",
       "      <td>1.217590</td>\n",
       "    </tr>\n",
       "    <tr>\n",
       "      <th>std</th>\n",
       "      <td>236404.872311</td>\n",
       "      <td>46608.589266</td>\n",
       "      <td>2.814877</td>\n",
       "      <td>46513.650653</td>\n",
       "      <td>3.255810</td>\n",
       "      <td>46520.755800</td>\n",
       "      <td>3.480952</td>\n",
       "    </tr>\n",
       "    <tr>\n",
       "      <th>min</th>\n",
       "      <td>0.000000</td>\n",
       "      <td>1.000000</td>\n",
       "      <td>0.000000</td>\n",
       "      <td>1.000000</td>\n",
       "      <td>0.000000</td>\n",
       "      <td>1.000000</td>\n",
       "      <td>0.000000</td>\n",
       "    </tr>\n",
       "    <tr>\n",
       "      <th>25%</th>\n",
       "      <td>204732.250000</td>\n",
       "      <td>38269.000000</td>\n",
       "      <td>0.000495</td>\n",
       "      <td>38251.000000</td>\n",
       "      <td>0.010425</td>\n",
       "      <td>37885.000000</td>\n",
       "      <td>0.015152</td>\n",
       "    </tr>\n",
       "    <tr>\n",
       "      <th>50%</th>\n",
       "      <td>409464.500000</td>\n",
       "      <td>78207.000000</td>\n",
       "      <td>0.147468</td>\n",
       "      <td>77925.000000</td>\n",
       "      <td>0.234045</td>\n",
       "      <td>77624.500000</td>\n",
       "      <td>0.277552</td>\n",
       "    </tr>\n",
       "    <tr>\n",
       "      <th>75%</th>\n",
       "      <td>614196.750000</td>\n",
       "      <td>118456.000000</td>\n",
       "      <td>0.969709</td>\n",
       "      <td>118013.750000</td>\n",
       "      <td>1.196888</td>\n",
       "      <td>117909.000000</td>\n",
       "      <td>1.316261</td>\n",
       "    </tr>\n",
       "    <tr>\n",
       "      <th>max</th>\n",
       "      <td>818929.000000</td>\n",
       "      <td>163785.000000</td>\n",
       "      <td>228.548483</td>\n",
       "      <td>163785.000000</td>\n",
       "      <td>231.076655</td>\n",
       "      <td>163784.000000</td>\n",
       "      <td>237.435580</td>\n",
       "    </tr>\n",
       "  </tbody>\n",
       "</table>\n",
       "</div>"
      ],
      "text/plain": [
       "                id_A          id_B1          dist1          id_B2  \\\n",
       "count  818930.000000  818930.000000  818930.000000  818930.000000   \n",
       "mean   409464.500000   78952.354800       0.967648   78743.284840   \n",
       "std    236404.872311   46608.589266       2.814877   46513.650653   \n",
       "min         0.000000       1.000000       0.000000       1.000000   \n",
       "25%    204732.250000   38269.000000       0.000495   38251.000000   \n",
       "50%    409464.500000   78207.000000       0.147468   77925.000000   \n",
       "75%    614196.750000  118456.000000       0.969709  118013.750000   \n",
       "max    818929.000000  163785.000000     228.548483  163785.000000   \n",
       "\n",
       "               dist2          id_B3          dist3  \n",
       "count  818930.000000  818930.000000  818930.000000  \n",
       "mean        1.134613   78542.301992       1.217590  \n",
       "std         3.255810   46520.755800       3.480952  \n",
       "min         0.000000       1.000000       0.000000  \n",
       "25%         0.010425   37885.000000       0.015152  \n",
       "50%         0.234045   77624.500000       0.277552  \n",
       "75%         1.196888  117909.000000       1.316261  \n",
       "max       231.076655  163784.000000     237.435580  "
      ]
     },
     "execution_count": 14,
     "metadata": {},
     "output_type": "execute_result"
    }
   ],
   "source": [
    "n[nearest.columns].describe()"
   ]
  },
  {
   "cell_type": "markdown",
   "metadata": {},
   "source": [
    "Data checks."
   ]
  },
  {
   "cell_type": "code",
   "execution_count": 15,
   "metadata": {},
   "outputs": [],
   "source": [
    "assert n[(n.id_B1 == n.id_B2) | (n.id_B1 == n.id_B3) | (n.id_B2 == n.id_B3)].shape[0] == 0"
   ]
  },
  {
   "cell_type": "code",
   "execution_count": 16,
   "metadata": {},
   "outputs": [],
   "source": [
    "assert n[(n.id_B1 < 0) | (n.id_B1 < 0) | (n.id_B3 < 0)].shape[0] == 0"
   ]
  },
  {
   "cell_type": "code",
   "execution_count": 17,
   "metadata": {},
   "outputs": [],
   "source": [
    "n[nearest.columns].to_csv(NEAREST_DIR + 'nearest' + str(SYNTHESIS_ID) + '.csv',\n",
    "                          index=False)"
   ]
  }
 ],
 "metadata": {
  "kernelspec": {
   "display_name": "Python 3",
   "language": "python",
   "name": "python3"
  },
  "language_info": {
   "codemirror_mode": {
    "name": "ipython",
    "version": 3
   },
   "file_extension": ".py",
   "mimetype": "text/x-python",
   "name": "python",
   "nbconvert_exporter": "python",
   "pygments_lexer": "ipython3",
   "version": "3.6.6"
  }
 },
 "nbformat": 4,
 "nbformat_minor": 2
}
