{
 "cells": [
  {
   "cell_type": "markdown",
   "metadata": {},
   "source": [
    "# Generate samples for disclosure risk survey\n",
    "\n",
    "Generate a semi-random sample of nearest matches for a survey asking which seems most problematic."
   ]
  },
  {
   "cell_type": "markdown",
   "metadata": {},
   "source": [
    "## Setup\n",
    "\n",
    "### Imports"
   ]
  },
  {
   "cell_type": "code",
   "execution_count": 1,
   "metadata": {},
   "outputs": [],
   "source": [
    "import pandas as pd\n",
    "import numpy as np\n",
    "import synthimpute as si"
   ]
  },
  {
   "cell_type": "markdown",
   "metadata": {},
   "source": [
    "### Load data"
   ]
  },
  {
   "cell_type": "code",
   "execution_count": 2,
   "metadata": {},
   "outputs": [],
   "source": [
    "PUF_SAMPLE_DIR = '~/Downloads/puf/'\n",
    "SYN_DIR = '~/Downloads/syntheses/'\n",
    "NEAREST_DIR = '~/Downloads/nearest/'"
   ]
  },
  {
   "cell_type": "code",
   "execution_count": 3,
   "metadata": {},
   "outputs": [],
   "source": [
    "train = pd.read_csv(PUF_SAMPLE_DIR + 'puf.csv')"
   ]
  },
  {
   "cell_type": "markdown",
   "metadata": {},
   "source": [
    "## Preprocessing"
   ]
  },
  {
   "cell_type": "code",
   "execution_count": 4,
   "metadata": {},
   "outputs": [],
   "source": [
    "# TODO: Do this in the file creation.\n",
    "def add_subtracted_features(df):\n",
    "    df['E00600'] = df.E00650 + df.e00600_minus_e00650\n",
    "    df['E01500'] = df.E01700 + df.e01500_minus_e01700\n",
    "    df.drop(['e00600_minus_e00650', 'e01500_minus_e01700'], axis=1, inplace=True)\n",
    "    \n",
    "add_subtracted_features(train)"
   ]
  },
  {
   "cell_type": "markdown",
   "metadata": {},
   "source": [
    "Align columns."
   ]
  },
  {
   "cell_type": "code",
   "execution_count": 5,
   "metadata": {},
   "outputs": [],
   "source": [
    "train.drop(['E00100', 'E09600', 'RECID', 'S006'], axis=1, inplace=True)"
   ]
  },
  {
   "cell_type": "code",
   "execution_count": 6,
   "metadata": {},
   "outputs": [],
   "source": [
    "def nonzero_rows(df):\n",
    "    if isinstance(df, pd.Series):\n",
    "        return df[df != 0]\n",
    "    return df.loc[(df!=0).any(axis=1)]"
   ]
  },
  {
   "cell_type": "markdown",
   "metadata": {},
   "source": [
    "## Settings"
   ]
  },
  {
   "cell_type": "code",
   "execution_count": 7,
   "metadata": {},
   "outputs": [],
   "source": [
    "BLOCK_BOUNDS = [-np.inf, 0, 0.01, 0.1, 1, 5, np.inf]"
   ]
  },
  {
   "cell_type": "markdown",
   "metadata": {},
   "source": [
    "How many records should each bin have?"
   ]
  },
  {
   "cell_type": "code",
   "execution_count": 8,
   "metadata": {},
   "outputs": [],
   "source": [
    "THRESHOLD = 5"
   ]
  },
  {
   "cell_type": "markdown",
   "metadata": {},
   "source": [
    "## First synth"
   ]
  },
  {
   "cell_type": "code",
   "execution_count": 9,
   "metadata": {},
   "outputs": [],
   "source": [
    "ID = 19\n",
    "synth = pd.read_csv(SYN_DIR + 'synpuf' + str(ID) + '.csv')\n",
    "nearest = pd.read_csv(NEAREST_DIR + 'nearest' + str(ID) + '.csv')\n",
    "synth = synth[train.columns]"
   ]
  },
  {
   "cell_type": "markdown",
   "metadata": {},
   "source": [
    "Define blocks based on `dist1`, `dist2`, and `dist3`."
   ]
  },
  {
   "cell_type": "code",
   "execution_count": 10,
   "metadata": {},
   "outputs": [
    {
     "data": {
      "text/html": [
       "<div>\n",
       "<style scoped>\n",
       "    .dataframe tbody tr th:only-of-type {\n",
       "        vertical-align: middle;\n",
       "    }\n",
       "\n",
       "    .dataframe tbody tr th {\n",
       "        vertical-align: top;\n",
       "    }\n",
       "\n",
       "    .dataframe thead th {\n",
       "        text-align: right;\n",
       "    }\n",
       "</style>\n",
       "<table border=\"1\" class=\"dataframe\">\n",
       "  <thead>\n",
       "    <tr style=\"text-align: right;\">\n",
       "      <th></th>\n",
       "      <th>dist1</th>\n",
       "      <th>dist2</th>\n",
       "      <th>dist3</th>\n",
       "    </tr>\n",
       "  </thead>\n",
       "  <tbody>\n",
       "    <tr>\n",
       "      <th>count</th>\n",
       "      <td>818930.000000</td>\n",
       "      <td>818930.000000</td>\n",
       "      <td>818930.000000</td>\n",
       "    </tr>\n",
       "    <tr>\n",
       "      <th>mean</th>\n",
       "      <td>0.975344</td>\n",
       "      <td>1.116985</td>\n",
       "      <td>1.197715</td>\n",
       "    </tr>\n",
       "    <tr>\n",
       "      <th>std</th>\n",
       "      <td>2.582479</td>\n",
       "      <td>2.995367</td>\n",
       "      <td>3.220225</td>\n",
       "    </tr>\n",
       "    <tr>\n",
       "      <th>min</th>\n",
       "      <td>0.000000</td>\n",
       "      <td>0.000000</td>\n",
       "      <td>0.000000</td>\n",
       "    </tr>\n",
       "    <tr>\n",
       "      <th>25%</th>\n",
       "      <td>0.010162</td>\n",
       "      <td>0.018833</td>\n",
       "      <td>0.024078</td>\n",
       "    </tr>\n",
       "    <tr>\n",
       "      <th>50%</th>\n",
       "      <td>0.221509</td>\n",
       "      <td>0.290681</td>\n",
       "      <td>0.336787</td>\n",
       "    </tr>\n",
       "    <tr>\n",
       "      <th>75%</th>\n",
       "      <td>1.071412</td>\n",
       "      <td>1.263653</td>\n",
       "      <td>1.375725</td>\n",
       "    </tr>\n",
       "    <tr>\n",
       "      <th>max</th>\n",
       "      <td>178.274368</td>\n",
       "      <td>225.001829</td>\n",
       "      <td>234.371409</td>\n",
       "    </tr>\n",
       "  </tbody>\n",
       "</table>\n",
       "</div>"
      ],
      "text/plain": [
       "               dist1          dist2          dist3\n",
       "count  818930.000000  818930.000000  818930.000000\n",
       "mean        0.975344       1.116985       1.197715\n",
       "std         2.582479       2.995367       3.220225\n",
       "min         0.000000       0.000000       0.000000\n",
       "25%         0.010162       0.018833       0.024078\n",
       "50%         0.221509       0.290681       0.336787\n",
       "75%         1.071412       1.263653       1.375725\n",
       "max       178.274368     225.001829     234.371409"
      ]
     },
     "execution_count": 10,
     "metadata": {},
     "output_type": "execute_result"
    }
   ],
   "source": [
    "nearest[['dist1', 'dist2', 'dist3']].describe()"
   ]
  },
  {
   "cell_type": "code",
   "execution_count": 11,
   "metadata": {},
   "outputs": [],
   "source": [
    "nearest['dist1_block'] = pd.cut(nearest.dist1, BLOCK_BOUNDS)\n",
    "nearest['dist2_block'] = pd.cut(nearest.dist2, BLOCK_BOUNDS)\n",
    "nearest['dist3_block'] = pd.cut(nearest.dist3, BLOCK_BOUNDS)"
   ]
  },
  {
   "cell_type": "code",
   "execution_count": 12,
   "metadata": {},
   "outputs": [
    {
     "data": {
      "text/plain": [
       "dist1_block  dist2_block  dist3_block\n",
       "(-inf, 0.0]  (-inf, 0.0]  (-inf, 0.0]     47631\n",
       "                          (0.0, 0.01]      8796\n",
       "                          (0.01, 0.1]        48\n",
       "                          (0.1, 1.0]          7\n",
       "             (0.0, 0.01]  (0.0, 0.01]     14524\n",
       "                          (0.01, 0.1]       578\n",
       "                          (0.1, 1.0]         25\n",
       "                          (1.0, 5.0]          2\n",
       "             (0.01, 0.1]  (0.01, 0.1]       727\n",
       "                          (0.1, 1.0]        120\n",
       "                          (1.0, 5.0]          2\n",
       "             (0.1, 1.0]   (0.1, 1.0]        178\n",
       "                          (1.0, 5.0]         11\n",
       "                          (5.0, inf]          1\n",
       "             (1.0, 5.0]   (1.0, 5.0]         21\n",
       "                          (5.0, inf]          2\n",
       "             (5.0, inf]   (5.0, inf]          1\n",
       "(0.0, 0.01]  (0.0, 0.01]  (0.0, 0.01]     94597\n",
       "                          (0.01, 0.1]     10804\n",
       "                          (0.1, 1.0]        525\n",
       "                          (1.0, 5.0]         36\n",
       "             (0.01, 0.1]  (0.01, 0.1]     20457\n",
       "                          (0.1, 1.0]       1633\n",
       "                          (1.0, 5.0]         54\n",
       "             (0.1, 1.0]   (0.1, 1.0]       2670\n",
       "                          (1.0, 5.0]        220\n",
       "             (1.0, 5.0]   (1.0, 5.0]        421\n",
       "                          (5.0, inf]         61\n",
       "             (5.0, inf]   (5.0, inf]          1\n",
       "(0.01, 0.1]  (0.01, 0.1]  (0.01, 0.1]     97597\n",
       "                          (0.1, 1.0]      10871\n",
       "                          (1.0, 5.0]         47\n",
       "             (0.1, 1.0]   (0.1, 1.0]      22431\n",
       "                          (1.0, 5.0]        416\n",
       "             (1.0, 5.0]   (1.0, 5.0]        452\n",
       "                          (5.0, inf]          8\n",
       "             (5.0, inf]   (5.0, inf]          7\n",
       "(0.1, 1.0]   (0.1, 1.0]   (0.1, 1.0]     225439\n",
       "                          (1.0, 5.0]      15129\n",
       "                          (5.0, inf]          1\n",
       "             (1.0, 5.0]   (1.0, 5.0]      27262\n",
       "                          (5.0, inf]         27\n",
       "             (5.0, inf]   (5.0, inf]         21\n",
       "(1.0, 5.0]   (1.0, 5.0]   (1.0, 5.0]     180289\n",
       "                          (5.0, inf]       2868\n",
       "             (5.0, inf]   (5.0, inf]       4790\n",
       "(5.0, inf]   (5.0, inf]   (5.0, inf]      27122\n",
       "dtype: int64"
      ]
     },
     "execution_count": 12,
     "metadata": {},
     "output_type": "execute_result"
    }
   ],
   "source": [
    "nearest.groupby(['dist1_block', 'dist2_block', 'dist3_block']).size()"
   ]
  },
  {
   "cell_type": "code",
   "execution_count": 13,
   "metadata": {
    "scrolled": true
   },
   "outputs": [
    {
     "data": {
      "text/plain": [
       "40"
      ]
     },
     "execution_count": 13,
     "metadata": {},
     "output_type": "execute_result"
    }
   ],
   "source": [
    "(nearest.groupby(['dist1_block', 'dist2_block', 'dist3_block']).size() >= THRESHOLD).sum()"
   ]
  },
  {
   "cell_type": "code",
   "execution_count": 14,
   "metadata": {},
   "outputs": [],
   "source": [
    "l = []"
   ]
  },
  {
   "cell_type": "code",
   "execution_count": 15,
   "metadata": {},
   "outputs": [],
   "source": [
    "for i in nearest.dist1_block.unique():\n",
    "    for j in nearest.dist2_block.unique():\n",
    "        for k in nearest.dist3_block.unique():\n",
    "            tmp_nearest = nearest[(nearest.dist1_block == i) & \n",
    "                                  (nearest.dist2_block == j) &\n",
    "                                  (nearest.dist3_block == k)]\n",
    "            if tmp_nearest.shape[0] > 0:\n",
    "                tmp_nearest = tmp_nearest.sample(1)\n",
    "                tmp = nonzero_rows(si.nearest_synth_train_records(\n",
    "                    tmp_nearest, synth, train,\n",
    "                    k=3, verbose=False, label_distance=False).astype(int))\n",
    "                tmp['model_id'] = ID\n",
    "                tmp['synth_id'] = tmp_nearest.iloc[0].id_A\n",
    "                tmp['dist1_block'] = i\n",
    "                tmp['dist2_block'] = j\n",
    "                tmp['dist3_block'] = k\n",
    "                l.append(tmp)"
   ]
  },
  {
   "cell_type": "markdown",
   "metadata": {},
   "source": [
    "## #2"
   ]
  },
  {
   "cell_type": "code",
   "execution_count": 16,
   "metadata": {},
   "outputs": [],
   "source": [
    "ID = 20\n",
    "synth = pd.read_csv(SYN_DIR + 'synpuf' + str(ID) + '.csv')\n",
    "nearest = pd.read_csv(NEAREST_DIR + 'nearest' + str(ID) + '.csv')\n",
    "synth = synth[train.columns]"
   ]
  },
  {
   "cell_type": "code",
   "execution_count": 17,
   "metadata": {},
   "outputs": [
    {
     "data": {
      "text/html": [
       "<div>\n",
       "<style scoped>\n",
       "    .dataframe tbody tr th:only-of-type {\n",
       "        vertical-align: middle;\n",
       "    }\n",
       "\n",
       "    .dataframe tbody tr th {\n",
       "        vertical-align: top;\n",
       "    }\n",
       "\n",
       "    .dataframe thead th {\n",
       "        text-align: right;\n",
       "    }\n",
       "</style>\n",
       "<table border=\"1\" class=\"dataframe\">\n",
       "  <thead>\n",
       "    <tr style=\"text-align: right;\">\n",
       "      <th></th>\n",
       "      <th>dist1</th>\n",
       "      <th>dist2</th>\n",
       "      <th>dist3</th>\n",
       "    </tr>\n",
       "  </thead>\n",
       "  <tbody>\n",
       "    <tr>\n",
       "      <th>count</th>\n",
       "      <td>818930.000000</td>\n",
       "      <td>818930.000000</td>\n",
       "      <td>818930.000000</td>\n",
       "    </tr>\n",
       "    <tr>\n",
       "      <th>mean</th>\n",
       "      <td>0.967648</td>\n",
       "      <td>1.134613</td>\n",
       "      <td>1.217590</td>\n",
       "    </tr>\n",
       "    <tr>\n",
       "      <th>std</th>\n",
       "      <td>2.814877</td>\n",
       "      <td>3.255810</td>\n",
       "      <td>3.480952</td>\n",
       "    </tr>\n",
       "    <tr>\n",
       "      <th>min</th>\n",
       "      <td>0.000000</td>\n",
       "      <td>0.000000</td>\n",
       "      <td>0.000000</td>\n",
       "    </tr>\n",
       "    <tr>\n",
       "      <th>25%</th>\n",
       "      <td>0.000495</td>\n",
       "      <td>0.010425</td>\n",
       "      <td>0.015152</td>\n",
       "    </tr>\n",
       "    <tr>\n",
       "      <th>50%</th>\n",
       "      <td>0.147468</td>\n",
       "      <td>0.234045</td>\n",
       "      <td>0.277552</td>\n",
       "    </tr>\n",
       "    <tr>\n",
       "      <th>75%</th>\n",
       "      <td>0.969709</td>\n",
       "      <td>1.196888</td>\n",
       "      <td>1.316261</td>\n",
       "    </tr>\n",
       "    <tr>\n",
       "      <th>max</th>\n",
       "      <td>228.548483</td>\n",
       "      <td>231.076655</td>\n",
       "      <td>237.435580</td>\n",
       "    </tr>\n",
       "  </tbody>\n",
       "</table>\n",
       "</div>"
      ],
      "text/plain": [
       "               dist1          dist2          dist3\n",
       "count  818930.000000  818930.000000  818930.000000\n",
       "mean        0.967648       1.134613       1.217590\n",
       "std         2.814877       3.255810       3.480952\n",
       "min         0.000000       0.000000       0.000000\n",
       "25%         0.000495       0.010425       0.015152\n",
       "50%         0.147468       0.234045       0.277552\n",
       "75%         0.969709       1.196888       1.316261\n",
       "max       228.548483     231.076655     237.435580"
      ]
     },
     "execution_count": 17,
     "metadata": {},
     "output_type": "execute_result"
    }
   ],
   "source": [
    "nearest[['dist1', 'dist2', 'dist3']].describe()"
   ]
  },
  {
   "cell_type": "code",
   "execution_count": 18,
   "metadata": {},
   "outputs": [],
   "source": [
    "nearest['dist1_block'] = pd.cut(nearest.dist1, BLOCK_BOUNDS)\n",
    "nearest['dist2_block'] = pd.cut(nearest.dist2, BLOCK_BOUNDS)\n",
    "nearest['dist3_block'] = pd.cut(nearest.dist3, BLOCK_BOUNDS)\n",
    "# nearest['dist1_pctile'] = nearest.dist1.quantile()\n",
    "# nearest['dist2_pctile'] = nearest.dist2.quantile()\n",
    "# nearest['dist1_block'] = pd.cut(nearest.dist1_pctile, BLOCK_BOUNDS)\n",
    "# nearest['dist2_block'] = pd.cut(nearest.dist2_pctile, BLOCK_BOUNDS)"
   ]
  },
  {
   "cell_type": "code",
   "execution_count": 19,
   "metadata": {},
   "outputs": [
    {
     "data": {
      "text/plain": [
       "dist1_block  dist2_block  dist3_block\n",
       "(-inf, 0.0]  (-inf, 0.0]  (-inf, 0.0]     50823\n",
       "                          (0.0, 0.01]     14565\n",
       "                          (0.01, 0.1]       184\n",
       "                          (0.1, 1.0]         42\n",
       "                          (1.0, 5.0]          6\n",
       "             (0.0, 0.01]  (0.0, 0.01]     41280\n",
       "                          (0.01, 0.1]      3962\n",
       "                          (0.1, 1.0]        498\n",
       "                          (1.0, 5.0]         22\n",
       "             (0.01, 0.1]  (0.01, 0.1]     11853\n",
       "                          (0.1, 1.0]       2188\n",
       "                          (1.0, 5.0]         39\n",
       "             (0.1, 1.0]   (0.1, 1.0]       6468\n",
       "                          (1.0, 5.0]        717\n",
       "                          (5.0, inf]          1\n",
       "             (1.0, 5.0]   (1.0, 5.0]       1506\n",
       "                          (5.0, inf]         24\n",
       "             (5.0, inf]   (5.0, inf]         25\n",
       "(0.0, 0.01]  (0.0, 0.01]  (0.0, 0.01]     81606\n",
       "                          (0.01, 0.1]      9771\n",
       "                          (0.1, 1.0]        380\n",
       "                          (1.0, 5.0]         21\n",
       "             (0.01, 0.1]  (0.01, 0.1]     25651\n",
       "                          (0.1, 1.0]       2237\n",
       "                          (1.0, 5.0]         47\n",
       "             (0.1, 1.0]   (0.1, 1.0]       6391\n",
       "                          (1.0, 5.0]        480\n",
       "             (1.0, 5.0]   (1.0, 5.0]       1143\n",
       "                          (5.0, inf]         11\n",
       "             (5.0, inf]   (5.0, inf]         18\n",
       "(0.01, 0.1]  (0.01, 0.1]  (0.01, 0.1]     79141\n",
       "                          (0.1, 1.0]      10238\n",
       "                          (1.0, 5.0]         34\n",
       "             (0.1, 1.0]   (0.1, 1.0]      25790\n",
       "                          (1.0, 5.0]        659\n",
       "             (1.0, 5.0]   (1.0, 5.0]       1372\n",
       "                          (5.0, inf]         10\n",
       "             (5.0, inf]   (5.0, inf]         25\n",
       "(0.1, 1.0]   (0.1, 1.0]   (0.1, 1.0]     198139\n",
       "                          (1.0, 5.0]      13526\n",
       "             (1.0, 5.0]   (1.0, 5.0]      27185\n",
       "                          (5.0, inf]         45\n",
       "             (5.0, inf]   (5.0, inf]        112\n",
       "(1.0, 5.0]   (1.0, 5.0]   (1.0, 5.0]     162379\n",
       "                          (5.0, inf]       2896\n",
       "             (5.0, inf]   (5.0, inf]       5376\n",
       "(5.0, inf]   (5.0, inf]   (5.0, inf]      30044\n",
       "dtype: int64"
      ]
     },
     "execution_count": 19,
     "metadata": {},
     "output_type": "execute_result"
    }
   ],
   "source": [
    "nearest.groupby(['dist1_block', 'dist2_block', 'dist3_block']).size()"
   ]
  },
  {
   "cell_type": "code",
   "execution_count": 20,
   "metadata": {},
   "outputs": [
    {
     "data": {
      "text/plain": [
       "46"
      ]
     },
     "execution_count": 20,
     "metadata": {},
     "output_type": "execute_result"
    }
   ],
   "source": [
    "(nearest.groupby(['dist1_block', 'dist2_block', 'dist3_block']).size() >= THRESHOLD).sum()"
   ]
  },
  {
   "cell_type": "code",
   "execution_count": 21,
   "metadata": {},
   "outputs": [],
   "source": [
    "for i in nearest.dist1_block.unique():\n",
    "    for j in nearest.dist2_block.unique():\n",
    "        for k in nearest.dist3_block.unique():\n",
    "            tmp_nearest = nearest[(nearest.dist1_block == i) & \n",
    "                                  (nearest.dist2_block == j) &\n",
    "                                  (nearest.dist3_block == k)]\n",
    "            if tmp_nearest.shape[0] >= THRESHOLD:\n",
    "                tmp_nearest = tmp_nearest.sample(1)\n",
    "                tmp = nonzero_rows(si.nearest_synth_train_records(\n",
    "                    tmp_nearest, synth, train,\n",
    "                    k=3, verbose=False, label_distance=False).astype(int))\n",
    "                tmp['model_id'] = ID\n",
    "                tmp['synth_id'] = tmp_nearest.iloc[0].id_A\n",
    "                tmp['dist1_block'] = i\n",
    "                tmp['dist2_block'] = j\n",
    "                tmp['dist3_block'] = k\n",
    "                l.append(tmp)"
   ]
  },
  {
   "cell_type": "markdown",
   "metadata": {},
   "source": [
    "## Finalize"
   ]
  },
  {
   "cell_type": "code",
   "execution_count": 22,
   "metadata": {},
   "outputs": [],
   "source": [
    "dat = pd.concat(l)\n",
    "dat.to_csv('~/Downloads/disclosure_survey_samples.csv')"
   ]
  }
 ],
 "metadata": {
  "kernelspec": {
   "display_name": "Python 3",
   "language": "python",
   "name": "python3"
  },
  "language_info": {
   "codemirror_mode": {
    "name": "ipython",
    "version": 3
   },
   "file_extension": ".py",
   "mimetype": "text/x-python",
   "name": "python",
   "nbconvert_exporter": "python",
   "pygments_lexer": "ipython3",
   "version": "3.6.6"
  }
 },
 "nbformat": 4,
 "nbformat_minor": 2
}
