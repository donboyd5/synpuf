{
 "cells": [
  {
   "cell_type": "markdown",
   "metadata": {},
   "source": [
    "# Generate samples for disclosure risk survey\n",
    "\n",
    "Generate a semi-random sample of nearest matches for a survey asking which seems most problematic."
   ]
  },
  {
   "cell_type": "markdown",
   "metadata": {},
   "source": [
    "## Setup\n",
    "\n",
    "### Imports"
   ]
  },
  {
   "cell_type": "code",
   "execution_count": 1,
   "metadata": {},
   "outputs": [],
   "source": [
    "import pandas as pd\n",
    "import numpy as np\n",
    "import synthimpute as si"
   ]
  },
  {
   "cell_type": "markdown",
   "metadata": {},
   "source": [
    "### Load data"
   ]
  },
  {
   "cell_type": "code",
   "execution_count": 2,
   "metadata": {},
   "outputs": [],
   "source": [
    "PUF_SAMPLE_DIR = '~/Downloads/puf/'\n",
    "SYN_DIR = '~/Downloads/syntheses/'\n",
    "NEAREST_DIR = '~/Downloads/nearest/'"
   ]
  },
  {
   "cell_type": "code",
   "execution_count": 3,
   "metadata": {},
   "outputs": [],
   "source": [
    "train = pd.read_csv(PUF_SAMPLE_DIR + 'puf.csv')"
   ]
  },
  {
   "cell_type": "markdown",
   "metadata": {},
   "source": [
    "## Preprocessing"
   ]
  },
  {
   "cell_type": "code",
   "execution_count": 4,
   "metadata": {},
   "outputs": [],
   "source": [
    "# TODO: Do this in the file creation.\n",
    "def add_subtracted_features(df):\n",
    "    df['E00600'] = df.E00650 + df.e00600_minus_e00650\n",
    "    df['E01500'] = df.E01700 + df.e01500_minus_e01700\n",
    "    df.drop(['e00600_minus_e00650', 'e01500_minus_e01700'], axis=1, inplace=True)\n",
    "    \n",
    "add_subtracted_features(train)"
   ]
  },
  {
   "cell_type": "markdown",
   "metadata": {},
   "source": [
    "Align columns."
   ]
  },
  {
   "cell_type": "code",
   "execution_count": 5,
   "metadata": {},
   "outputs": [],
   "source": [
    "train.drop(['E00100', 'E09600', 'RECID', 'S006'], axis=1, inplace=True)"
   ]
  },
  {
   "cell_type": "code",
   "execution_count": 6,
   "metadata": {},
   "outputs": [],
   "source": [
    "def nonzero_rows(df):\n",
    "    if isinstance(df, pd.Series):\n",
    "        return df[df != 0]\n",
    "    return df.loc[(df!=0).any(axis=1)]"
   ]
  },
  {
   "cell_type": "markdown",
   "metadata": {},
   "source": [
    "## Settings"
   ]
  },
  {
   "cell_type": "code",
   "execution_count": 7,
   "metadata": {},
   "outputs": [],
   "source": [
    "BLOCK_BOUNDS = [-np.inf, 0, 0.01, 0.1, 1, 5, np.inf]"
   ]
  },
  {
   "cell_type": "markdown",
   "metadata": {},
   "source": [
    "How many records should each bin have?"
   ]
  },
  {
   "cell_type": "code",
   "execution_count": 8,
   "metadata": {},
   "outputs": [],
   "source": [
    "THRESHOLD = 1"
   ]
  },
  {
   "cell_type": "markdown",
   "metadata": {},
   "source": [
    "## First synth"
   ]
  },
  {
   "cell_type": "code",
   "execution_count": 9,
   "metadata": {},
   "outputs": [],
   "source": [
    "ID = 19\n",
    "synth = pd.read_csv(SYN_DIR + 'synpuf' + str(ID) + '.csv')\n",
    "nearest = pd.read_csv(NEAREST_DIR + 'nearest' + str(ID) + '.csv')\n",
    "synth = synth[train.columns]"
   ]
  },
  {
   "cell_type": "markdown",
   "metadata": {},
   "source": [
    "Define blocks based on `dist1` and `dist23`."
   ]
  },
  {
   "cell_type": "code",
   "execution_count": 10,
   "metadata": {},
   "outputs": [],
   "source": [
    "def add_blocks(nearest):\n",
    "    nearest['dist2_3'] = nearest[['dist2', 'dist3']].mean(axis=1)\n",
    "    nearest['dist1_block'] = pd.cut(nearest.dist1, BLOCK_BOUNDS)\n",
    "    nearest['dist2_3_block'] = pd.cut(nearest.dist2_3, BLOCK_BOUNDS)"
   ]
  },
  {
   "cell_type": "code",
   "execution_count": 11,
   "metadata": {},
   "outputs": [],
   "source": [
    "add_blocks(nearest)"
   ]
  },
  {
   "cell_type": "code",
   "execution_count": 12,
   "metadata": {},
   "outputs": [
    {
     "data": {
      "text/plain": [
       "dist1_block  dist2_3_block\n",
       "(-inf, 0.0]  (-inf, 0.0]       47631\n",
       "             (0.0, 0.01]       23606\n",
       "             (0.01, 0.1]        1120\n",
       "             (0.1, 1.0]          290\n",
       "             (1.0, 5.0]           24\n",
       "             (5.0, inf]            3\n",
       "(0.0, 0.01]  (0.0, 0.01]       98865\n",
       "             (0.01, 0.1]       27598\n",
       "             (0.1, 1.0]         4450\n",
       "             (1.0, 5.0]          565\n",
       "             (5.0, inf]            1\n",
       "(0.01, 0.1]  (0.01, 0.1]      102066\n",
       "             (0.1, 1.0]        29151\n",
       "             (1.0, 5.0]          603\n",
       "             (5.0, inf]            9\n",
       "(0.1, 1.0]   (0.1, 1.0]       232811\n",
       "             (1.0, 5.0]        35038\n",
       "             (5.0, inf]           30\n",
       "(1.0, 5.0]   (1.0, 5.0]       181692\n",
       "             (5.0, inf]         6255\n",
       "(5.0, inf]   (5.0, inf]        27122\n",
       "dtype: int64"
      ]
     },
     "execution_count": 12,
     "metadata": {},
     "output_type": "execute_result"
    }
   ],
   "source": [
    "nearest.groupby(['dist1_block', 'dist2_3_block']).size()"
   ]
  },
  {
   "cell_type": "code",
   "execution_count": 13,
   "metadata": {
    "scrolled": true
   },
   "outputs": [
    {
     "data": {
      "text/plain": [
       "21"
      ]
     },
     "execution_count": 13,
     "metadata": {},
     "output_type": "execute_result"
    }
   ],
   "source": [
    "(nearest.groupby(['dist1_block', 'dist2_3_block']).size() >= THRESHOLD).sum()"
   ]
  },
  {
   "cell_type": "code",
   "execution_count": 14,
   "metadata": {},
   "outputs": [],
   "source": [
    "l = []"
   ]
  },
  {
   "cell_type": "code",
   "execution_count": 15,
   "metadata": {},
   "outputs": [],
   "source": [
    "def add_cases(l, nearest):\n",
    "    for i in nearest.dist1_block.unique():\n",
    "        for j in nearest.dist2_3_block.unique():\n",
    "            tmp_nearest = nearest[(nearest.dist1_block == i) & \n",
    "                                  (nearest.dist2_3_block == j)]\n",
    "            if tmp_nearest.shape[0] >= THRESHOLD:\n",
    "                tmp_nearest = tmp_nearest.sample(1)\n",
    "                tmp = nonzero_rows(si.nearest_synth_train_records(\n",
    "                    tmp_nearest, synth, train,\n",
    "                    k=3, verbose=False, label_distance=False).astype(int))\n",
    "                tmp['model_id'] = ID\n",
    "                tmp['synth_id'] = tmp_nearest.iloc[0].id_A\n",
    "                tmp['dist1_block'] = i\n",
    "                tmp['dist2_3_block'] = j\n",
    "                l.append(tmp)"
   ]
  },
  {
   "cell_type": "code",
   "execution_count": 16,
   "metadata": {},
   "outputs": [],
   "source": [
    "add_cases(l, nearest)"
   ]
  },
  {
   "cell_type": "markdown",
   "metadata": {},
   "source": [
    "## #2"
   ]
  },
  {
   "cell_type": "code",
   "execution_count": 17,
   "metadata": {},
   "outputs": [],
   "source": [
    "ID = 20\n",
    "synth = pd.read_csv(SYN_DIR + 'synpuf' + str(ID) + '.csv')\n",
    "nearest = pd.read_csv(NEAREST_DIR + 'nearest' + str(ID) + '.csv')\n",
    "synth = synth[train.columns]"
   ]
  },
  {
   "cell_type": "code",
   "execution_count": 18,
   "metadata": {},
   "outputs": [],
   "source": [
    "add_blocks(nearest)"
   ]
  },
  {
   "cell_type": "code",
   "execution_count": 19,
   "metadata": {},
   "outputs": [
    {
     "data": {
      "text/plain": [
       "dist1_block  dist2_3_block\n",
       "(-inf, 0.0]  (-inf, 0.0]       50823\n",
       "             (0.0, 0.01]       57454\n",
       "             (0.01, 0.1]       15168\n",
       "             (0.1, 1.0]         8912\n",
       "             (1.0, 5.0]         1805\n",
       "             (5.0, inf]           41\n",
       "(0.0, 0.01]  (0.0, 0.01]       85442\n",
       "             (0.01, 0.1]       32563\n",
       "             (0.1, 1.0]         8355\n",
       "             (1.0, 5.0]         1373\n",
       "             (5.0, inf]           23\n",
       "(0.01, 0.1]  (0.01, 0.1]       83494\n",
       "             (0.1, 1.0]        32087\n",
       "             (1.0, 5.0]         1658\n",
       "             (5.0, inf]           30\n",
       "(0.1, 1.0]   (0.1, 1.0]       204677\n",
       "             (1.0, 5.0]        34195\n",
       "             (5.0, inf]          135\n",
       "(1.0, 5.0]   (1.0, 5.0]       163846\n",
       "             (5.0, inf]         6805\n",
       "(5.0, inf]   (5.0, inf]        30044\n",
       "dtype: int64"
      ]
     },
     "execution_count": 19,
     "metadata": {},
     "output_type": "execute_result"
    }
   ],
   "source": [
    "nearest.groupby(['dist1_block', 'dist2_3_block']).size()"
   ]
  },
  {
   "cell_type": "code",
   "execution_count": 20,
   "metadata": {},
   "outputs": [
    {
     "data": {
      "text/plain": [
       "21"
      ]
     },
     "execution_count": 20,
     "metadata": {},
     "output_type": "execute_result"
    }
   ],
   "source": [
    "(nearest.groupby(['dist1_block', 'dist2_3_block']).size() >= THRESHOLD).sum()"
   ]
  },
  {
   "cell_type": "code",
   "execution_count": 21,
   "metadata": {},
   "outputs": [],
   "source": [
    "add_cases(l, nearest)"
   ]
  },
  {
   "cell_type": "markdown",
   "metadata": {},
   "source": [
    "## Finalize\n",
    "\n",
    "Create single `DataFrame` from list of `DataFrame`s."
   ]
  },
  {
   "cell_type": "code",
   "execution_count": 22,
   "metadata": {},
   "outputs": [],
   "source": [
    "dat = pd.concat(l)"
   ]
  },
  {
   "cell_type": "markdown",
   "metadata": {},
   "source": [
    "Add a random identifier."
   ]
  },
  {
   "cell_type": "code",
   "execution_count": 23,
   "metadata": {},
   "outputs": [],
   "source": [
    "dat['model_synth_id'] = dat.model_id * 1e9 + dat.synth_id"
   ]
  },
  {
   "cell_type": "code",
   "execution_count": 24,
   "metadata": {},
   "outputs": [],
   "source": [
    "model_synth_ids = dat.model_synth_id.unique()\n",
    "n_model_synth_ids = model_synth_ids.shape[0]"
   ]
  },
  {
   "cell_type": "code",
   "execution_count": 25,
   "metadata": {},
   "outputs": [],
   "source": [
    "model_synth_id_map = pd.DataFrame({\n",
    "    'model_synth_id': model_synth_ids,\n",
    "    'masked_model_synth_id': np.random.choice(np.arange(n_model_synth_ids), \n",
    "                                              n_model_synth_ids, replace=False)})"
   ]
  },
  {
   "cell_type": "code",
   "execution_count": 26,
   "metadata": {},
   "outputs": [],
   "source": [
    "dat = dat.merge(model_synth_id_map, on='model_synth_id')"
   ]
  },
  {
   "cell_type": "markdown",
   "metadata": {},
   "source": [
    "Export"
   ]
  },
  {
   "cell_type": "code",
   "execution_count": 27,
   "metadata": {},
   "outputs": [],
   "source": [
    "dat.to_csv('~/Downloads/disclosure_survey_samples.csv')"
   ]
  }
 ],
 "metadata": {
  "kernelspec": {
   "display_name": "Python 3",
   "language": "python",
   "name": "python3"
  },
  "language_info": {
   "codemirror_mode": {
    "name": "ipython",
    "version": 3
   },
   "file_extension": ".py",
   "mimetype": "text/x-python",
   "name": "python",
   "nbconvert_exporter": "python",
   "pygments_lexer": "ipython3",
   "version": "3.6.6"
  }
 },
 "nbformat": 4,
 "nbformat_minor": 2
}
