{
 "cells": [
  {
   "cell_type": "markdown",
   "metadata": {
    "colab_type": "text",
    "id": "PQdJbWCS9N3G"
   },
   "source": [
    "# Synthetic CPS\n",
    "\n",
    "\n",
    "Use the [CPS data.](https://github.com/open-source-economics/taxdata/blob/master/cps_data/cps.csv.gz)"
   ]
  },
  {
   "cell_type": "markdown",
   "metadata": {
    "colab_type": "text",
    "id": "VjvK4vP2-X_D"
   },
   "source": [
    "## Setup"
   ]
  },
  {
   "cell_type": "code",
   "execution_count": 2,
   "metadata": {
    "colab": {},
    "colab_type": "code",
    "id": "yf26Fpx3-H-Y"
   },
   "outputs": [],
   "source": [
    "import pandas as pd\n",
    "import numpy as np\n",
    "\n",
    "from sklearn import ensemble\n",
    "from sklearn.model_selection import train_test_split\n",
    "from sklearn import linear_model"
   ]
  },
  {
   "cell_type": "markdown",
   "metadata": {
    "colab_type": "text",
    "id": "VrIWCe8L1imk"
   },
   "source": [
    "Random forest and GBM options."
   ]
  },
  {
   "cell_type": "code",
   "execution_count": 3,
   "metadata": {
    "colab": {},
    "colab_type": "code",
    "id": "-r1h-uzW1lC3"
   },
   "outputs": [],
   "source": [
    "N_ESTIMATORS = 50"
   ]
  },
  {
   "cell_type": "markdown",
   "metadata": {
    "colab_type": "text",
    "id": "sm3RTN850S70"
   },
   "source": [
    "### Graph options"
   ]
  },
  {
   "cell_type": "markdown",
   "metadata": {
    "colab_type": "text",
    "id": "vdaqXkSCe7gG"
   },
   "source": [
    "### Data\n",
    "\n",
    "#### Load"
   ]
  },
  {
   "cell_type": "code",
   "execution_count": 4,
   "metadata": {
    "colab": {},
    "colab_type": "code",
    "id": "6DX58bWylfOC"
   },
   "outputs": [],
   "source": [
    "raw = pd.read_csv('https://github.com/open-source-economics/taxdata/raw/master/cps_data/cps.csv.gz')"
   ]
  },
  {
   "cell_type": "markdown",
   "metadata": {
    "colab_type": "text",
    "id": "SJhy87dDRHOU"
   },
   "source": [
    "### Preprocess"
   ]
  },
  {
   "cell_type": "markdown",
   "metadata": {
    "colab_type": "text",
    "id": "rBIflqHloPIm"
   },
   "source": [
    "Take 10% sample and drop identifiers and other fields unnecessary for synthesis ([source](http://open-source-economics.github.io/Tax-Calculator/)):\n",
    "\n",
    "* `RECID`: Unique numeric identifier for filing unit; appears as RECID variable in tc CLI minimal output\n",
    "* `h_seq`:  CPS household sequence number (not used in tax-calculation logic)\n",
    "* `ffpos`: CPS family identifier within household (not used in tax-calculation logic)\n",
    "* `a_lineno`: CPS line number for the person record of the head of the tax filing unit (not used in tax-calculation)\n",
    "* `agi_bin`: Historical AGI category used in data extrapolation...not used in tax calculations\n",
    "* `filer`: 1 if unit files an income tax return; 0 if not (not used in tax-calculation logic); in the puf.csv file a value of 1 indicates record is from IRS/SOI PUF and 0 indicates record is from CPS\n",
    "* `fips`: FIPS state code (not used in tax-calculation logic)\n",
    "* `FLPDYR`: Calendar year for which taxes are calculated\n",
    "* `pencon_s` and `pencon_p`: Zero in CPS."
   ]
  },
  {
   "cell_type": "code",
   "execution_count": 5,
   "metadata": {
    "colab": {},
    "colab_type": "code",
    "id": "GrCDVotnqWSt"
   },
   "outputs": [],
   "source": [
    "DROP_VARS = ['RECID', 'h_seq', 'ffpos', 'a_lineno', 'agi_bin', 'filer', \n",
    "             'fips', 'FLPDYR', 'pencon_s', 'pencon_p']"
   ]
  },
  {
   "cell_type": "code",
   "execution_count": 6,
   "metadata": {
    "colab": {},
    "colab_type": "code",
    "id": "Y4GGDAsYFHoL"
   },
   "outputs": [],
   "source": [
    "SAMPLE_FRAC = 1.0\n",
    "dat = raw.sample(frac=SAMPLE_FRAC).drop(DROP_VARS, axis=1)"
   ]
  },
  {
   "cell_type": "markdown",
   "metadata": {
    "colab_type": "text",
    "id": "aU9XWFwur9MY"
   },
   "source": [
    "Set variables with under 10 distinct values to string for classification."
   ]
  },
  {
   "cell_type": "code",
   "execution_count": 7,
   "metadata": {
    "colab": {
     "base_uri": "https://localhost:8080/",
     "height": 374
    },
    "colab_type": "code",
    "id": "KHwmA2gMmxPG",
    "outputId": "07c551ac-46e8-4d6c-ebf1-8a09d4433c1a"
   },
   "outputs": [
    {
     "data": {
      "text/plain": [
       "DSI                     2\n",
       "blind_head              2\n",
       "blind_spouse            2\n",
       "MARS                    3\n",
       "EIC                     4\n",
       "elderly_dependents      4\n",
       "nu05                    5\n",
       "n1820                   7\n",
       "mcare_ben               9\n",
       "n21                     9\n",
       "f2441                  11\n",
       "n24                    11\n",
       "nu13                   11\n",
       "nu18                   13\n",
       "XTOT                   14\n",
       "mcaid_ben              14\n",
       "age_head               82\n",
       "age_spouse             82\n",
       "e00800                126\n",
       "e03240                548\n",
       "dtype: int64"
      ]
     },
     "execution_count": 7,
     "metadata": {},
     "output_type": "execute_result"
    }
   ],
   "source": [
    "dat.nunique().sort_values().head(20)"
   ]
  },
  {
   "cell_type": "code",
   "execution_count": 8,
   "metadata": {
    "colab": {},
    "colab_type": "code",
    "id": "a5xP6Qkhsui6"
   },
   "outputs": [],
   "source": [
    "var_nunique = dat.T.apply(lambda x: x.nunique(), axis=1)"
   ]
  },
  {
   "cell_type": "code",
   "execution_count": 9,
   "metadata": {
    "colab": {
     "base_uri": "https://localhost:8080/",
     "height": 221
    },
    "colab_type": "code",
    "id": "L2tOetnysIU_",
    "outputId": "9eca3708-245a-4122-f5be-6186ef7e9486"
   },
   "outputs": [
    {
     "data": {
      "text/plain": [
       "['DSI',\n",
       " 'blind_head',\n",
       " 'blind_spouse',\n",
       " 'n1820',\n",
       " 'n21',\n",
       " 'mcare_ben',\n",
       " 'nu05',\n",
       " 'elderly_dependents',\n",
       " 'EIC',\n",
       " 'MARS']"
      ]
     },
     "execution_count": 9,
     "metadata": {},
     "output_type": "execute_result"
    }
   ],
   "source": [
    "class_vars = var_nunique[var_nunique < 10].index.tolist()\n",
    "class_vars"
   ]
  },
  {
   "cell_type": "markdown",
   "metadata": {
    "colab_type": "text",
    "id": "2o0gtg1IvBT-"
   },
   "source": [
    "Split into test and train."
   ]
  },
  {
   "cell_type": "code",
   "execution_count": 10,
   "metadata": {
    "colab": {},
    "colab_type": "code",
    "id": "7hqQu_O4C2hk"
   },
   "outputs": [],
   "source": [
    "train, test = train_test_split(dat, test_size=0.5, random_state=42)"
   ]
  },
  {
   "cell_type": "code",
   "execution_count": 11,
   "metadata": {
    "colab": {
     "base_uri": "https://localhost:8080/",
     "height": 119
    },
    "colab_type": "code",
    "id": "P3kb4Vd_s-8x",
    "outputId": "53f153d7-7e22-45e8-87d1-7e2be0364044"
   },
   "outputs": [
    {
     "name": "stderr",
     "output_type": "stream",
     "text": [
      "/home/maxghenis/miniconda3/lib/python3.6/site-packages/pandas/core/frame.py:3140: SettingWithCopyWarning: \n",
      "A value is trying to be set on a copy of a slice from a DataFrame.\n",
      "Try using .loc[row_indexer,col_indexer] = value instead\n",
      "\n",
      "See the caveats in the documentation: http://pandas.pydata.org/pandas-docs/stable/indexing.html#indexing-view-versus-copy\n",
      "  self[k1] = value[k2]\n"
     ]
    }
   ],
   "source": [
    "# Only make train fields strings, since it's just for modeling. \n",
    "# Convert back later.\n",
    "train[class_vars] = train[class_vars].astype(str)"
   ]
  },
  {
   "cell_type": "markdown",
   "metadata": {
    "colab_type": "text",
    "id": "7q0EnqvpEDuU"
   },
   "source": [
    "## Functions"
   ]
  },
  {
   "cell_type": "markdown",
   "metadata": {
    "colab_type": "text",
    "id": "bUGYPbFGwTpt"
   },
   "source": [
    "From https://stackoverflow.com/a/52615768/1840471"
   ]
  },
  {
   "cell_type": "code",
   "execution_count": 12,
   "metadata": {
    "colab": {},
    "colab_type": "code",
    "id": "Iq7UGuf2Ehq3"
   },
   "outputs": [],
   "source": [
    "def percentile_qarray_np(dat, q):\n",
    "  return np.apply_along_axis(\n",
    "    lambda x: np.percentile(x[1:], x[0]),\n",
    "    1,\n",
    "    np.concatenate([np.array(q)[:, np.newaxis], dat], axis=1)\n",
    "  )"
   ]
  },
  {
   "cell_type": "code",
   "execution_count": 13,
   "metadata": {
    "colab": {},
    "colab_type": "code",
    "id": "Vdo8f9wnEAxk"
   },
   "outputs": [],
   "source": [
    "def rf_quantile(m, X, q):\n",
    "    rf_preds = []\n",
    "    for estimator in m.estimators_:\n",
    "        rf_preds.append(estimator.predict(X))\n",
    "    rf_preds = np.array(rf_preds).transpose()  # One row per record.\n",
    "    return percentile_qarray_np(rf_preds, q * 100)"
   ]
  },
  {
   "cell_type": "markdown",
   "metadata": {
    "colab_type": "text",
    "id": "YwYXvg8MAwDJ"
   },
   "source": [
    "## Synthesize"
   ]
  },
  {
   "cell_type": "markdown",
   "metadata": {
    "colab_type": "text",
    "id": "KVf3ttqKvPM_"
   },
   "source": [
    "Seed variables should be those whose combination would be freely published by the IRS."
   ]
  },
  {
   "cell_type": "code",
   "execution_count": 14,
   "metadata": {
    "colab": {},
    "colab_type": "code",
    "id": "eYpFOAibn2Db"
   },
   "outputs": [],
   "source": [
    "SEED_COLS = ['MARS', 'XTOT', 'age_head']"
   ]
  },
  {
   "cell_type": "markdown",
   "metadata": {},
   "source": [
    "Seed the synthetic dataset with a 100% sample (with replacement) of the training set's seed columns. Use `copy` to avoid a warning."
   ]
  },
  {
   "cell_type": "code",
   "execution_count": 15,
   "metadata": {
    "colab": {},
    "colab_type": "code",
    "id": "PKDhSeTJGr8T"
   },
   "outputs": [],
   "source": [
    "synth = train.copy()[SEED_COLS].sample(frac=1.0, replace=True, random_state=42)"
   ]
  },
  {
   "cell_type": "code",
   "execution_count": 16,
   "metadata": {
    "colab": {},
    "colab_type": "code",
    "id": "MwO9DFhNDuHj"
   },
   "outputs": [],
   "source": [
    "rf = ensemble.RandomForestRegressor(n_estimators=N_ESTIMATORS, \n",
    "                                    min_samples_leaf=1, random_state=3, \n",
    "                                    verbose=True, \n",
    "                                    n_jobs=-1)  # Use maximum number of cores."
   ]
  },
  {
   "cell_type": "markdown",
   "metadata": {
    "colab_type": "text",
    "id": "Q8Iq4OUp7xVT"
   },
   "source": [
    "### Set order of feature synthesis\n",
    "\n",
    "Start with demographic columns, then income, then benefits, then weight."
   ]
  },
  {
   "cell_type": "code",
   "execution_count": 17,
   "metadata": {
    "colab": {},
    "colab_type": "code",
    "id": "9tpavTPI70lL"
   },
   "outputs": [],
   "source": [
    "# MARS and XTOT would also go here if not the seed columns.\n",
    "DEMO_COLS = ['MARS', 'XTOT', 'age_head', \n",
    "             'age_spouse', 'blind_head', 'blind_spouse', 'DSI',\n",
    "             'nu05', 'nu13', 'n24', 'nu18', 'n1820', 'n21',\n",
    "             'elderly_dependents',\n",
    "             'f2441', 'EIC']\n",
    "demo_cols = list(set(DEMO_COLS) - set(SEED_COLS))\n",
    "ben_cols = [x for x in test.columns if x.endswith('_ben')]\n",
    "income_cols = list(set(test.columns) - set(demo_cols) - set(ben_cols) - \n",
    "                   set(['s006']) - set(SEED_COLS))"
   ]
  },
  {
   "cell_type": "code",
   "execution_count": 18,
   "metadata": {
    "colab": {},
    "colab_type": "code",
    "id": "DIdPNBONw-7F"
   },
   "outputs": [],
   "source": [
    "rf_vars = demo_cols + income_cols + ben_cols + ['s006']"
   ]
  },
  {
   "cell_type": "code",
   "execution_count": 19,
   "metadata": {
    "colab": {
     "base_uri": "https://localhost:8080/",
     "height": 3026
    },
    "colab_type": "code",
    "id": "rBrw657HImN8",
    "outputId": "a3959c16-13e8-42c6-cd90-d0d3e5ab0904"
   },
   "outputs": [
    {
     "name": "stdout",
     "output_type": "stream",
     "text": [
      "Synthesizing feature 1 of 56: age_spouse...\n"
     ]
    },
    {
     "name": "stderr",
     "output_type": "stream",
     "text": [
      "[Parallel(n_jobs=-1)]: Using backend ThreadingBackend with 4 concurrent workers.\n",
      "[Parallel(n_jobs=-1)]: Done  42 tasks      | elapsed:    2.3s\n",
      "[Parallel(n_jobs=-1)]: Done  50 out of  50 | elapsed:    2.7s finished\n"
     ]
    },
    {
     "name": "stdout",
     "output_type": "stream",
     "text": [
      "Synthesizing feature 2 of 56: DSI...\n"
     ]
    },
    {
     "name": "stderr",
     "output_type": "stream",
     "text": [
      "[Parallel(n_jobs=-1)]: Using backend ThreadingBackend with 4 concurrent workers.\n",
      "[Parallel(n_jobs=-1)]: Done  42 tasks      | elapsed:    3.6s\n",
      "[Parallel(n_jobs=-1)]: Done  50 out of  50 | elapsed:    4.1s finished\n"
     ]
    },
    {
     "name": "stdout",
     "output_type": "stream",
     "text": [
      "Synthesizing feature 3 of 56: n21...\n"
     ]
    },
    {
     "name": "stderr",
     "output_type": "stream",
     "text": [
      "[Parallel(n_jobs=-1)]: Using backend ThreadingBackend with 4 concurrent workers.\n",
      "[Parallel(n_jobs=-1)]: Done  42 tasks      | elapsed:    3.6s\n",
      "[Parallel(n_jobs=-1)]: Done  50 out of  50 | elapsed:    4.2s finished\n"
     ]
    },
    {
     "name": "stdout",
     "output_type": "stream",
     "text": [
      "Synthesizing feature 4 of 56: n1820...\n"
     ]
    },
    {
     "name": "stderr",
     "output_type": "stream",
     "text": [
      "[Parallel(n_jobs=-1)]: Using backend ThreadingBackend with 4 concurrent workers.\n",
      "[Parallel(n_jobs=-1)]: Done  42 tasks      | elapsed:    5.3s\n",
      "[Parallel(n_jobs=-1)]: Done  50 out of  50 | elapsed:    6.0s finished\n"
     ]
    },
    {
     "name": "stdout",
     "output_type": "stream",
     "text": [
      "Synthesizing feature 5 of 56: EIC...\n"
     ]
    },
    {
     "name": "stderr",
     "output_type": "stream",
     "text": [
      "[Parallel(n_jobs=-1)]: Using backend ThreadingBackend with 4 concurrent workers.\n",
      "[Parallel(n_jobs=-1)]: Done  42 tasks      | elapsed:    4.5s\n",
      "[Parallel(n_jobs=-1)]: Done  50 out of  50 | elapsed:    5.2s finished\n"
     ]
    },
    {
     "name": "stdout",
     "output_type": "stream",
     "text": [
      "Synthesizing feature 6 of 56: elderly_dependents...\n"
     ]
    },
    {
     "name": "stderr",
     "output_type": "stream",
     "text": [
      "[Parallel(n_jobs=-1)]: Using backend ThreadingBackend with 4 concurrent workers.\n",
      "[Parallel(n_jobs=-1)]: Done  42 tasks      | elapsed:    3.7s\n",
      "[Parallel(n_jobs=-1)]: Done  50 out of  50 | elapsed:    4.3s finished\n"
     ]
    },
    {
     "name": "stdout",
     "output_type": "stream",
     "text": [
      "Synthesizing feature 7 of 56: nu13...\n"
     ]
    },
    {
     "name": "stderr",
     "output_type": "stream",
     "text": [
      "[Parallel(n_jobs=-1)]: Using backend ThreadingBackend with 4 concurrent workers.\n",
      "[Parallel(n_jobs=-1)]: Done  42 tasks      | elapsed:    3.5s\n",
      "[Parallel(n_jobs=-1)]: Done  50 out of  50 | elapsed:    4.0s finished\n"
     ]
    },
    {
     "name": "stdout",
     "output_type": "stream",
     "text": [
      "Synthesizing feature 8 of 56: nu18...\n"
     ]
    },
    {
     "name": "stderr",
     "output_type": "stream",
     "text": [
      "[Parallel(n_jobs=-1)]: Using backend ThreadingBackend with 4 concurrent workers.\n",
      "[Parallel(n_jobs=-1)]: Done  42 tasks      | elapsed:    6.0s\n",
      "[Parallel(n_jobs=-1)]: Done  50 out of  50 | elapsed:    7.0s finished\n"
     ]
    },
    {
     "name": "stdout",
     "output_type": "stream",
     "text": [
      "Synthesizing feature 9 of 56: nu05...\n"
     ]
    },
    {
     "name": "stderr",
     "output_type": "stream",
     "text": [
      "[Parallel(n_jobs=-1)]: Using backend ThreadingBackend with 4 concurrent workers.\n",
      "[Parallel(n_jobs=-1)]: Done  42 tasks      | elapsed:    3.7s\n",
      "[Parallel(n_jobs=-1)]: Done  50 out of  50 | elapsed:    4.3s finished\n"
     ]
    },
    {
     "name": "stdout",
     "output_type": "stream",
     "text": [
      "Synthesizing feature 10 of 56: blind_head...\n"
     ]
    },
    {
     "name": "stderr",
     "output_type": "stream",
     "text": [
      "[Parallel(n_jobs=-1)]: Using backend ThreadingBackend with 4 concurrent workers.\n",
      "[Parallel(n_jobs=-1)]: Done  42 tasks      | elapsed:   15.2s\n",
      "[Parallel(n_jobs=-1)]: Done  50 out of  50 | elapsed:   17.2s finished\n"
     ]
    },
    {
     "name": "stdout",
     "output_type": "stream",
     "text": [
      "Synthesizing feature 11 of 56: blind_spouse...\n"
     ]
    },
    {
     "name": "stderr",
     "output_type": "stream",
     "text": [
      "[Parallel(n_jobs=-1)]: Using backend ThreadingBackend with 4 concurrent workers.\n",
      "[Parallel(n_jobs=-1)]: Done  42 tasks      | elapsed:   12.7s\n",
      "[Parallel(n_jobs=-1)]: Done  50 out of  50 | elapsed:   14.4s finished\n"
     ]
    },
    {
     "name": "stdout",
     "output_type": "stream",
     "text": [
      "Synthesizing feature 12 of 56: n24...\n"
     ]
    },
    {
     "name": "stderr",
     "output_type": "stream",
     "text": [
      "[Parallel(n_jobs=-1)]: Using backend ThreadingBackend with 4 concurrent workers.\n",
      "[Parallel(n_jobs=-1)]: Done  42 tasks      | elapsed:    5.9s\n",
      "[Parallel(n_jobs=-1)]: Done  50 out of  50 | elapsed:    6.9s finished\n"
     ]
    },
    {
     "name": "stdout",
     "output_type": "stream",
     "text": [
      "Synthesizing feature 13 of 56: f2441...\n"
     ]
    },
    {
     "name": "stderr",
     "output_type": "stream",
     "text": [
      "[Parallel(n_jobs=-1)]: Using backend ThreadingBackend with 4 concurrent workers.\n",
      "[Parallel(n_jobs=-1)]: Done  42 tasks      | elapsed:    2.8s\n",
      "[Parallel(n_jobs=-1)]: Done  50 out of  50 | elapsed:    3.4s finished\n"
     ]
    },
    {
     "name": "stdout",
     "output_type": "stream",
     "text": [
      "Synthesizing feature 14 of 56: e18500...\n"
     ]
    },
    {
     "name": "stderr",
     "output_type": "stream",
     "text": [
      "[Parallel(n_jobs=-1)]: Using backend ThreadingBackend with 4 concurrent workers.\n",
      "[Parallel(n_jobs=-1)]: Done  42 tasks      | elapsed:   16.5s\n",
      "[Parallel(n_jobs=-1)]: Done  50 out of  50 | elapsed:   19.0s finished\n"
     ]
    },
    {
     "name": "stdout",
     "output_type": "stream",
     "text": [
      "Synthesizing feature 15 of 56: e01700...\n"
     ]
    },
    {
     "name": "stderr",
     "output_type": "stream",
     "text": [
      "[Parallel(n_jobs=-1)]: Using backend ThreadingBackend with 4 concurrent workers.\n",
      "[Parallel(n_jobs=-1)]: Done  42 tasks      | elapsed:   24.7s\n",
      "[Parallel(n_jobs=-1)]: Done  50 out of  50 | elapsed:   28.8s finished\n"
     ]
    },
    {
     "name": "stdout",
     "output_type": "stream",
     "text": [
      "Synthesizing feature 16 of 56: e02100...\n"
     ]
    },
    {
     "name": "stderr",
     "output_type": "stream",
     "text": [
      "[Parallel(n_jobs=-1)]: Using backend ThreadingBackend with 4 concurrent workers.\n",
      "[Parallel(n_jobs=-1)]: Done  42 tasks      | elapsed:   32.0s\n",
      "[Parallel(n_jobs=-1)]: Done  50 out of  50 | elapsed:   37.1s finished\n"
     ]
    },
    {
     "name": "stdout",
     "output_type": "stream",
     "text": [
      "Synthesizing feature 17 of 56: e00200...\n"
     ]
    },
    {
     "name": "stderr",
     "output_type": "stream",
     "text": [
      "[Parallel(n_jobs=-1)]: Using backend ThreadingBackend with 4 concurrent workers.\n",
      "[Parallel(n_jobs=-1)]: Done  42 tasks      | elapsed:   30.4s\n",
      "[Parallel(n_jobs=-1)]: Done  50 out of  50 | elapsed:   35.3s finished\n"
     ]
    },
    {
     "name": "stdout",
     "output_type": "stream",
     "text": [
      "Synthesizing feature 18 of 56: e02400...\n"
     ]
    },
    {
     "name": "stderr",
     "output_type": "stream",
     "text": [
      "[Parallel(n_jobs=-1)]: Using backend ThreadingBackend with 4 concurrent workers.\n",
      "[Parallel(n_jobs=-1)]: Done  42 tasks      | elapsed:   40.4s\n",
      "[Parallel(n_jobs=-1)]: Done  50 out of  50 | elapsed:   46.7s finished\n"
     ]
    },
    {
     "name": "stdout",
     "output_type": "stream",
     "text": [
      "Synthesizing feature 19 of 56: e17500...\n"
     ]
    },
    {
     "name": "stderr",
     "output_type": "stream",
     "text": [
      "[Parallel(n_jobs=-1)]: Using backend ThreadingBackend with 4 concurrent workers.\n",
      "[Parallel(n_jobs=-1)]: Done  42 tasks      | elapsed:   51.7s\n",
      "[Parallel(n_jobs=-1)]: Done  50 out of  50 | elapsed:  1.0min finished\n"
     ]
    },
    {
     "name": "stdout",
     "output_type": "stream",
     "text": [
      "Synthesizing feature 20 of 56: e00300...\n"
     ]
    },
    {
     "name": "stderr",
     "output_type": "stream",
     "text": [
      "[Parallel(n_jobs=-1)]: Using backend ThreadingBackend with 4 concurrent workers.\n",
      "[Parallel(n_jobs=-1)]: Done  42 tasks      | elapsed:  1.2min\n",
      "[Parallel(n_jobs=-1)]: Done  50 out of  50 | elapsed:  1.4min finished\n"
     ]
    },
    {
     "name": "stdout",
     "output_type": "stream",
     "text": [
      "Synthesizing feature 21 of 56: e00900...\n"
     ]
    },
    {
     "name": "stderr",
     "output_type": "stream",
     "text": [
      "[Parallel(n_jobs=-1)]: Using backend ThreadingBackend with 4 concurrent workers.\n",
      "[Parallel(n_jobs=-1)]: Done  42 tasks      | elapsed:   58.6s\n",
      "[Parallel(n_jobs=-1)]: Done  50 out of  50 | elapsed:  1.1min finished\n"
     ]
    },
    {
     "name": "stdout",
     "output_type": "stream",
     "text": [
      "Synthesizing feature 22 of 56: e02300...\n"
     ]
    },
    {
     "name": "stderr",
     "output_type": "stream",
     "text": [
      "[Parallel(n_jobs=-1)]: Using backend ThreadingBackend with 4 concurrent workers.\n",
      "[Parallel(n_jobs=-1)]: Done  42 tasks      | elapsed:   56.6s\n",
      "[Parallel(n_jobs=-1)]: Done  50 out of  50 | elapsed:  1.1min finished\n"
     ]
    },
    {
     "name": "stdout",
     "output_type": "stream",
     "text": [
      "Synthesizing feature 23 of 56: e02100p...\n"
     ]
    },
    {
     "name": "stderr",
     "output_type": "stream",
     "text": [
      "[Parallel(n_jobs=-1)]: Using backend ThreadingBackend with 4 concurrent workers.\n",
      "[Parallel(n_jobs=-1)]: Done  42 tasks      | elapsed:   58.6s\n",
      "[Parallel(n_jobs=-1)]: Done  50 out of  50 | elapsed:  1.1min finished\n"
     ]
    },
    {
     "name": "stdout",
     "output_type": "stream",
     "text": [
      "Synthesizing feature 24 of 56: e32800...\n"
     ]
    },
    {
     "name": "stderr",
     "output_type": "stream",
     "text": [
      "[Parallel(n_jobs=-1)]: Using backend ThreadingBackend with 4 concurrent workers.\n",
      "[Parallel(n_jobs=-1)]: Done  42 tasks      | elapsed:   36.0s\n",
      "[Parallel(n_jobs=-1)]: Done  50 out of  50 | elapsed:   41.1s finished\n"
     ]
    },
    {
     "name": "stdout",
     "output_type": "stream",
     "text": [
      "Synthesizing feature 25 of 56: e00600...\n"
     ]
    },
    {
     "name": "stderr",
     "output_type": "stream",
     "text": [
      "[Parallel(n_jobs=-1)]: Using backend ThreadingBackend with 4 concurrent workers.\n",
      "[Parallel(n_jobs=-1)]: Done  42 tasks      | elapsed:  1.4min\n",
      "[Parallel(n_jobs=-1)]: Done  50 out of  50 | elapsed:  1.6min finished\n"
     ]
    },
    {
     "name": "stdout",
     "output_type": "stream",
     "text": [
      "Synthesizing feature 26 of 56: e01500...\n"
     ]
    },
    {
     "name": "stderr",
     "output_type": "stream",
     "text": [
      "[Parallel(n_jobs=-1)]: Using backend ThreadingBackend with 4 concurrent workers.\n",
      "[Parallel(n_jobs=-1)]: Done  42 tasks      | elapsed:  1.1min\n",
      "[Parallel(n_jobs=-1)]: Done  50 out of  50 | elapsed:  1.2min finished\n"
     ]
    },
    {
     "name": "stdout",
     "output_type": "stream",
     "text": [
      "Synthesizing feature 27 of 56: e02100s...\n"
     ]
    },
    {
     "name": "stderr",
     "output_type": "stream",
     "text": [
      "[Parallel(n_jobs=-1)]: Using backend ThreadingBackend with 4 concurrent workers.\n",
      "[Parallel(n_jobs=-1)]: Done  42 tasks      | elapsed:   55.5s\n",
      "[Parallel(n_jobs=-1)]: Done  50 out of  50 | elapsed:  1.1min finished\n"
     ]
    },
    {
     "name": "stdout",
     "output_type": "stream",
     "text": [
      "Synthesizing feature 28 of 56: e00200s...\n"
     ]
    },
    {
     "name": "stderr",
     "output_type": "stream",
     "text": [
      "[Parallel(n_jobs=-1)]: Using backend ThreadingBackend with 4 concurrent workers.\n",
      "[Parallel(n_jobs=-1)]: Done  42 tasks      | elapsed:   48.1s\n",
      "[Parallel(n_jobs=-1)]: Done  50 out of  50 | elapsed:   56.1s finished\n"
     ]
    },
    {
     "name": "stdout",
     "output_type": "stream",
     "text": [
      "Synthesizing feature 29 of 56: e03300...\n"
     ]
    },
    {
     "name": "stderr",
     "output_type": "stream",
     "text": [
      "[Parallel(n_jobs=-1)]: Using backend ThreadingBackend with 4 concurrent workers.\n",
      "[Parallel(n_jobs=-1)]: Done  42 tasks      | elapsed:  1.6min\n",
      "[Parallel(n_jobs=-1)]: Done  50 out of  50 | elapsed:  1.9min finished\n"
     ]
    },
    {
     "name": "stdout",
     "output_type": "stream",
     "text": [
      "Synthesizing feature 30 of 56: e03150...\n"
     ]
    },
    {
     "name": "stderr",
     "output_type": "stream",
     "text": [
      "[Parallel(n_jobs=-1)]: Using backend ThreadingBackend with 4 concurrent workers.\n",
      "[Parallel(n_jobs=-1)]: Done  42 tasks      | elapsed:  1.4min\n",
      "[Parallel(n_jobs=-1)]: Done  50 out of  50 | elapsed:  1.6min finished\n"
     ]
    },
    {
     "name": "stdout",
     "output_type": "stream",
     "text": [
      "Synthesizing feature 31 of 56: e01100...\n"
     ]
    },
    {
     "name": "stderr",
     "output_type": "stream",
     "text": [
      "[Parallel(n_jobs=-1)]: Using backend ThreadingBackend with 4 concurrent workers.\n",
      "[Parallel(n_jobs=-1)]: Done  42 tasks      | elapsed:  1.7min\n",
      "[Parallel(n_jobs=-1)]: Done  50 out of  50 | elapsed:  2.0min finished\n"
     ]
    },
    {
     "name": "stdout",
     "output_type": "stream",
     "text": [
      "Synthesizing feature 32 of 56: e03270...\n"
     ]
    },
    {
     "name": "stderr",
     "output_type": "stream",
     "text": [
      "[Parallel(n_jobs=-1)]: Using backend ThreadingBackend with 4 concurrent workers.\n",
      "[Parallel(n_jobs=-1)]: Done  42 tasks      | elapsed:  1.7min\n",
      "[Parallel(n_jobs=-1)]: Done  50 out of  50 | elapsed:  1.9min finished\n"
     ]
    },
    {
     "name": "stdout",
     "output_type": "stream",
     "text": [
      "Synthesizing feature 33 of 56: e03210...\n"
     ]
    },
    {
     "name": "stderr",
     "output_type": "stream",
     "text": [
      "[Parallel(n_jobs=-1)]: Using backend ThreadingBackend with 4 concurrent workers.\n",
      "[Parallel(n_jobs=-1)]: Done  42 tasks      | elapsed:  1.5min\n",
      "[Parallel(n_jobs=-1)]: Done  50 out of  50 | elapsed:  1.7min finished\n"
     ]
    },
    {
     "name": "stdout",
     "output_type": "stream",
     "text": [
      "Synthesizing feature 34 of 56: e20400...\n"
     ]
    },
    {
     "name": "stderr",
     "output_type": "stream",
     "text": [
      "[Parallel(n_jobs=-1)]: Using backend ThreadingBackend with 4 concurrent workers.\n",
      "[Parallel(n_jobs=-1)]: Done  42 tasks      | elapsed:  2.0min\n",
      "[Parallel(n_jobs=-1)]: Done  50 out of  50 | elapsed:  2.4min finished\n"
     ]
    },
    {
     "name": "stdout",
     "output_type": "stream",
     "text": [
      "Synthesizing feature 35 of 56: e00900p...\n"
     ]
    },
    {
     "name": "stderr",
     "output_type": "stream",
     "text": [
      "[Parallel(n_jobs=-1)]: Using backend ThreadingBackend with 4 concurrent workers.\n",
      "[Parallel(n_jobs=-1)]: Done  42 tasks      | elapsed:  1.5min\n",
      "[Parallel(n_jobs=-1)]: Done  50 out of  50 | elapsed:  1.7min finished\n"
     ]
    },
    {
     "name": "stdout",
     "output_type": "stream",
     "text": [
      "Synthesizing feature 36 of 56: e18400...\n"
     ]
    },
    {
     "name": "stderr",
     "output_type": "stream",
     "text": [
      "[Parallel(n_jobs=-1)]: Using backend ThreadingBackend with 4 concurrent workers.\n",
      "[Parallel(n_jobs=-1)]: Done  42 tasks      | elapsed:  2.3min\n",
      "[Parallel(n_jobs=-1)]: Done  50 out of  50 | elapsed:  2.6min finished\n"
     ]
    },
    {
     "name": "stdout",
     "output_type": "stream",
     "text": [
      "Synthesizing feature 37 of 56: e20100...\n"
     ]
    },
    {
     "name": "stderr",
     "output_type": "stream",
     "text": [
      "[Parallel(n_jobs=-1)]: Using backend ThreadingBackend with 4 concurrent workers.\n",
      "[Parallel(n_jobs=-1)]: Done  42 tasks      | elapsed:  1.8min\n",
      "[Parallel(n_jobs=-1)]: Done  50 out of  50 | elapsed:  2.1min finished\n"
     ]
    },
    {
     "name": "stdout",
     "output_type": "stream",
     "text": [
      "Synthesizing feature 38 of 56: e19800...\n"
     ]
    },
    {
     "name": "stderr",
     "output_type": "stream",
     "text": [
      "[Parallel(n_jobs=-1)]: Using backend ThreadingBackend with 4 concurrent workers.\n",
      "[Parallel(n_jobs=-1)]: Done  42 tasks      | elapsed:   36.6s\n",
      "[Parallel(n_jobs=-1)]: Done  50 out of  50 | elapsed:   41.9s finished\n"
     ]
    },
    {
     "name": "stdout",
     "output_type": "stream",
     "text": [
      "Synthesizing feature 39 of 56: e03240...\n"
     ]
    },
    {
     "name": "stderr",
     "output_type": "stream",
     "text": [
      "[Parallel(n_jobs=-1)]: Using backend ThreadingBackend with 4 concurrent workers.\n",
      "[Parallel(n_jobs=-1)]: Done  42 tasks      | elapsed:  2.7min\n",
      "[Parallel(n_jobs=-1)]: Done  50 out of  50 | elapsed:  3.2min finished\n"
     ]
    },
    {
     "name": "stdout",
     "output_type": "stream",
     "text": [
      "Synthesizing feature 40 of 56: e00800...\n"
     ]
    },
    {
     "name": "stderr",
     "output_type": "stream",
     "text": [
      "[Parallel(n_jobs=-1)]: Using backend ThreadingBackend with 4 concurrent workers.\n",
      "[Parallel(n_jobs=-1)]: Done  42 tasks      | elapsed:  1.7min\n",
      "[Parallel(n_jobs=-1)]: Done  50 out of  50 | elapsed:  1.9min finished\n"
     ]
    },
    {
     "name": "stdout",
     "output_type": "stream",
     "text": [
      "Synthesizing feature 41 of 56: e00900s...\n"
     ]
    },
    {
     "name": "stderr",
     "output_type": "stream",
     "text": [
      "[Parallel(n_jobs=-1)]: Using backend ThreadingBackend with 4 concurrent workers.\n",
      "[Parallel(n_jobs=-1)]: Done  42 tasks      | elapsed:  1.7min\n",
      "[Parallel(n_jobs=-1)]: Done  50 out of  50 | elapsed:  2.0min finished\n"
     ]
    },
    {
     "name": "stdout",
     "output_type": "stream",
     "text": [
      "Synthesizing feature 42 of 56: e01400...\n"
     ]
    },
    {
     "name": "stderr",
     "output_type": "stream",
     "text": [
      "[Parallel(n_jobs=-1)]: Using backend ThreadingBackend with 4 concurrent workers.\n",
      "[Parallel(n_jobs=-1)]: Done  42 tasks      | elapsed:  2.2min\n",
      "[Parallel(n_jobs=-1)]: Done  50 out of  50 | elapsed:  2.6min finished\n"
     ]
    },
    {
     "name": "stdout",
     "output_type": "stream",
     "text": [
      "Synthesizing feature 43 of 56: e00650...\n"
     ]
    },
    {
     "name": "stderr",
     "output_type": "stream",
     "text": [
      "[Parallel(n_jobs=-1)]: Using backend ThreadingBackend with 4 concurrent workers.\n",
      "[Parallel(n_jobs=-1)]: Done  42 tasks      | elapsed:  1.5min\n",
      "[Parallel(n_jobs=-1)]: Done  50 out of  50 | elapsed:  1.8min finished\n"
     ]
    },
    {
     "name": "stdout",
     "output_type": "stream",
     "text": [
      "Synthesizing feature 44 of 56: e00200p...\n"
     ]
    },
    {
     "name": "stderr",
     "output_type": "stream",
     "text": [
      "[Parallel(n_jobs=-1)]: Using backend ThreadingBackend with 4 concurrent workers.\n",
      "[Parallel(n_jobs=-1)]: Done  42 tasks      | elapsed:  1.7min\n",
      "[Parallel(n_jobs=-1)]: Done  50 out of  50 | elapsed:  1.9min finished\n"
     ]
    },
    {
     "name": "stdout",
     "output_type": "stream",
     "text": [
      "Synthesizing feature 45 of 56: e19200...\n"
     ]
    },
    {
     "name": "stderr",
     "output_type": "stream",
     "text": [
      "[Parallel(n_jobs=-1)]: Using backend ThreadingBackend with 4 concurrent workers.\n",
      "[Parallel(n_jobs=-1)]: Done  42 tasks      | elapsed:  1.4min\n",
      "[Parallel(n_jobs=-1)]: Done  50 out of  50 | elapsed:  1.6min finished\n"
     ]
    },
    {
     "name": "stdout",
     "output_type": "stream",
     "text": [
      "Synthesizing feature 46 of 56: e00400...\n"
     ]
    },
    {
     "name": "stderr",
     "output_type": "stream",
     "text": [
      "[Parallel(n_jobs=-1)]: Using backend ThreadingBackend with 4 concurrent workers.\n",
      "[Parallel(n_jobs=-1)]: Done  42 tasks      | elapsed:  1.9min\n",
      "[Parallel(n_jobs=-1)]: Done  50 out of  50 | elapsed:  2.2min finished\n"
     ]
    },
    {
     "name": "stdout",
     "output_type": "stream",
     "text": [
      "Synthesizing feature 47 of 56: ssi_ben...\n"
     ]
    },
    {
     "name": "stderr",
     "output_type": "stream",
     "text": [
      "[Parallel(n_jobs=-1)]: Using backend ThreadingBackend with 4 concurrent workers.\n",
      "[Parallel(n_jobs=-1)]: Done  42 tasks      | elapsed:  1.6min\n",
      "[Parallel(n_jobs=-1)]: Done  50 out of  50 | elapsed:  1.8min finished\n"
     ]
    },
    {
     "name": "stdout",
     "output_type": "stream",
     "text": [
      "Synthesizing feature 48 of 56: vet_ben...\n"
     ]
    },
    {
     "name": "stderr",
     "output_type": "stream",
     "text": [
      "[Parallel(n_jobs=-1)]: Using backend ThreadingBackend with 4 concurrent workers.\n",
      "[Parallel(n_jobs=-1)]: Done  42 tasks      | elapsed:  2.5min\n",
      "[Parallel(n_jobs=-1)]: Done  50 out of  50 | elapsed:  2.9min finished\n"
     ]
    },
    {
     "name": "stdout",
     "output_type": "stream",
     "text": [
      "Synthesizing feature 49 of 56: snap_ben...\n"
     ]
    },
    {
     "name": "stderr",
     "output_type": "stream",
     "text": [
      "[Parallel(n_jobs=-1)]: Using backend ThreadingBackend with 4 concurrent workers.\n",
      "[Parallel(n_jobs=-1)]: Done  42 tasks      | elapsed:  1.9min\n",
      "[Parallel(n_jobs=-1)]: Done  50 out of  50 | elapsed:  2.1min finished\n"
     ]
    },
    {
     "name": "stdout",
     "output_type": "stream",
     "text": [
      "Synthesizing feature 50 of 56: mcare_ben...\n"
     ]
    },
    {
     "name": "stderr",
     "output_type": "stream",
     "text": [
      "[Parallel(n_jobs=-1)]: Using backend ThreadingBackend with 4 concurrent workers.\n",
      "[Parallel(n_jobs=-1)]: Done  42 tasks      | elapsed:  2.3min\n",
      "[Parallel(n_jobs=-1)]: Done  50 out of  50 | elapsed:  2.7min finished\n"
     ]
    },
    {
     "name": "stdout",
     "output_type": "stream",
     "text": [
      "Synthesizing feature 51 of 56: mcaid_ben...\n"
     ]
    },
    {
     "name": "stderr",
     "output_type": "stream",
     "text": [
      "[Parallel(n_jobs=-1)]: Using backend ThreadingBackend with 4 concurrent workers.\n",
      "[Parallel(n_jobs=-1)]: Done  42 tasks      | elapsed:  2.6min\n",
      "[Parallel(n_jobs=-1)]: Done  50 out of  50 | elapsed:  3.0min finished\n"
     ]
    },
    {
     "name": "stdout",
     "output_type": "stream",
     "text": [
      "Synthesizing feature 52 of 56: tanf_ben...\n"
     ]
    },
    {
     "name": "stderr",
     "output_type": "stream",
     "text": [
      "[Parallel(n_jobs=-1)]: Using backend ThreadingBackend with 4 concurrent workers.\n",
      "[Parallel(n_jobs=-1)]: Done  42 tasks      | elapsed:  3.3min\n",
      "[Parallel(n_jobs=-1)]: Done  50 out of  50 | elapsed:  3.9min finished\n"
     ]
    },
    {
     "name": "stdout",
     "output_type": "stream",
     "text": [
      "Synthesizing feature 53 of 56: housing_ben...\n"
     ]
    },
    {
     "name": "stderr",
     "output_type": "stream",
     "text": [
      "[Parallel(n_jobs=-1)]: Using backend ThreadingBackend with 4 concurrent workers.\n",
      "[Parallel(n_jobs=-1)]: Done  42 tasks      | elapsed:  1.2min\n",
      "[Parallel(n_jobs=-1)]: Done  50 out of  50 | elapsed:  1.4min finished\n"
     ]
    },
    {
     "name": "stdout",
     "output_type": "stream",
     "text": [
      "Synthesizing feature 54 of 56: wic_ben...\n"
     ]
    },
    {
     "name": "stderr",
     "output_type": "stream",
     "text": [
      "[Parallel(n_jobs=-1)]: Using backend ThreadingBackend with 4 concurrent workers.\n",
      "[Parallel(n_jobs=-1)]: Done  42 tasks      | elapsed:  1.8min\n",
      "[Parallel(n_jobs=-1)]: Done  50 out of  50 | elapsed:  2.1min finished\n"
     ]
    },
    {
     "name": "stdout",
     "output_type": "stream",
     "text": [
      "Synthesizing feature 55 of 56: other_ben...\n"
     ]
    },
    {
     "name": "stderr",
     "output_type": "stream",
     "text": [
      "[Parallel(n_jobs=-1)]: Using backend ThreadingBackend with 4 concurrent workers.\n",
      "[Parallel(n_jobs=-1)]: Done  42 tasks      | elapsed:  1.7min\n",
      "[Parallel(n_jobs=-1)]: Done  50 out of  50 | elapsed:  2.0min finished\n"
     ]
    },
    {
     "name": "stdout",
     "output_type": "stream",
     "text": [
      "Synthesizing feature 56 of 56: s006...\n"
     ]
    },
    {
     "name": "stderr",
     "output_type": "stream",
     "text": [
      "[Parallel(n_jobs=-1)]: Using backend ThreadingBackend with 4 concurrent workers.\n",
      "[Parallel(n_jobs=-1)]: Done  42 tasks      | elapsed:  4.0min\n",
      "[Parallel(n_jobs=-1)]: Done  50 out of  50 | elapsed:  4.5min finished\n"
     ]
    },
    {
     "name": "stdout",
     "output_type": "stream",
     "text": [
      "CPU times: user 4h 45min 8s, sys: 6min 10s, total: 4h 51min 18s\n",
      "Wall time: 12h 8min\n"
     ]
    }
   ],
   "source": [
    "%%time\n",
    "for i, col in enumerate(rf_vars):\n",
    "  print('Synthesizing feature ' + str(i + 1) + ' of ' + \n",
    "        str(len(rf_vars)) + ': ' + col + '...')\n",
    "  rf.fit(train[synth.columns], train[col])\n",
    "  synth[col] = rf_quantile(rf, synth, np.random.rand(synth.shape[0]))"
   ]
  },
  {
   "cell_type": "markdown",
   "metadata": {
    "colab_type": "text",
    "id": "Ef6HVQgE0GBd"
   },
   "source": [
    "## Evaluate\n",
    "\n",
    "Compare CDFs and correlations to test data."
   ]
  },
  {
   "cell_type": "code",
   "execution_count": 20,
   "metadata": {
    "colab": {},
    "colab_type": "code",
    "id": "SmZFzgvjMFsf"
   },
   "outputs": [],
   "source": [
    "synthr = synth.round()"
   ]
  },
  {
   "cell_type": "code",
   "execution_count": 21,
   "metadata": {
    "colab": {},
    "colab_type": "code",
    "id": "zaP0x6FX314f"
   },
   "outputs": [],
   "source": [
    "def cdf(df, col):\n",
    "  res = df[[col, 's006']].sort_values(col)\n",
    "  res['s006_cumpct'] = res.s006.cumsum() / res.s006.sum()\n",
    "  return res"
   ]
  },
  {
   "cell_type": "code",
   "execution_count": 22,
   "metadata": {
    "colab": {},
    "colab_type": "code",
    "id": "OC8p04pO1lSf"
   },
   "outputs": [],
   "source": [
    "from matplotlib.ticker import MaxNLocator\n",
    "\n",
    "def compare_cdf(synth, test, col, unit_prepend=''):\n",
    "  synth_cdf = cdf(synth, col)\n",
    "  test_cdf = cdf(test, col)\n",
    "  ax = synth_cdf.plot(x=col, y='s006_cumpct')\n",
    "  test_cdf.plot(x=col, y='s006_cumpct', ax=ax, color='#BDBDBD')\n",
    "  ax.legend(['Synthetic', 'Test'])\n",
    "  ax.grid(color='#eeeeee')\n",
    "  ax.xaxis.set_major_locator(MaxNLocator(integer=True))\n",
    "  # Assume a dollar amount if exceeds 100. Use symlog and $ axis.\n",
    "  if test[col].max() > 100:\n",
    "    unit_prepend = '$'\n",
    "    plt.xscale('symlog')\n",
    "  ax.xaxis.set_major_formatter(mpl.ticker.FuncFormatter(\n",
    "      lambda x, _: unit_prepend + format(int(x), ',')))\n",
    "  ax.yaxis.set_major_formatter(mpl.ticker.FuncFormatter(\n",
    "      lambda y, _: '{:.0%}'.format(y)))\n",
    "  ax.set(xlabel=col, ylabel='Share of tax units')\n",
    "  plt.title('CDF of ' + col + ' for synthetic and test sets', loc='left')\n",
    "  sns.despine(left=True, bottom=True)\n",
    "  plt.show()"
   ]
  },
  {
   "cell_type": "code",
   "execution_count": 23,
   "metadata": {
    "colab": {},
    "colab_type": "code",
    "id": "udxFbu5F0HgP"
   },
   "outputs": [],
   "source": [
    "# for i in rf_vars:\n",
    "#     if i != 's006':\n",
    "#         compare_cdf(synthr, test, i)"
   ]
  },
  {
   "cell_type": "code",
   "execution_count": 24,
   "metadata": {},
   "outputs": [],
   "source": [
    "synth.to_csv('synth.csv')"
   ]
  },
  {
   "cell_type": "code",
   "execution_count": 25,
   "metadata": {},
   "outputs": [],
   "source": [
    "test.to_csv('test.csv')"
   ]
  },
  {
   "cell_type": "code",
   "execution_count": 26,
   "metadata": {},
   "outputs": [],
   "source": [
    "train.to_csv('train.csv')"
   ]
  },
  {
   "cell_type": "markdown",
   "metadata": {},
   "source": [
    "## synthpop"
   ]
  },
  {
   "cell_type": "code",
   "execution_count": 27,
   "metadata": {},
   "outputs": [
    {
     "name": "stderr",
     "output_type": "stream",
     "text": [
      "/home/maxghenis/miniconda3/lib/python3.6/site-packages/rpy2/rinterface/__init__.py:145: RRuntimeWarning: During startup - \n",
      "  warnings.warn(x, RRuntimeWarning)\n",
      "/home/maxghenis/miniconda3/lib/python3.6/site-packages/rpy2/rinterface/__init__.py:145: RRuntimeWarning: Warning message:\n",
      "\n",
      "  warnings.warn(x, RRuntimeWarning)\n",
      "/home/maxghenis/miniconda3/lib/python3.6/site-packages/rpy2/rinterface/__init__.py:145: RRuntimeWarning: package 'RevoUtils' was built under R version 3.4.3 \n",
      "\n",
      "  warnings.warn(x, RRuntimeWarning)\n"
     ]
    }
   ],
   "source": [
    "# Also requires installing tzlocal\n",
    "from rpy2.robjects.packages import importr\n",
    "import rpy2.robjects as robjects\n",
    "from rpy2.robjects import r, pandas2ri\n",
    "pandas2ri.activate()"
   ]
  },
  {
   "cell_type": "code",
   "execution_count": 29,
   "metadata": {},
   "outputs": [
    {
     "name": "stderr",
     "output_type": "stream",
     "text": [
      "/home/maxghenis/miniconda3/lib/python3.6/site-packages/rpy2/rinterface/__init__.py:145: RRuntimeWarning: Loading required package: lattice\n",
      "\n",
      "  warnings.warn(x, RRuntimeWarning)\n",
      "/home/maxghenis/miniconda3/lib/python3.6/site-packages/rpy2/rinterface/__init__.py:145: RRuntimeWarning: Loading required package: MASS\n",
      "\n",
      "  warnings.warn(x, RRuntimeWarning)\n",
      "/home/maxghenis/miniconda3/lib/python3.6/site-packages/rpy2/rinterface/__init__.py:145: RRuntimeWarning: Loading required package: nnet\n",
      "\n",
      "  warnings.warn(x, RRuntimeWarning)\n",
      "/home/maxghenis/miniconda3/lib/python3.6/site-packages/rpy2/rinterface/__init__.py:145: RRuntimeWarning: Loading required package: ggplot2\n",
      "\n",
      "  warnings.warn(x, RRuntimeWarning)\n"
     ]
    },
    {
     "data": {
      "text/plain": [
       "array(['synthpop', 'ggplot2', 'nnet', 'MASS', 'lattice', 'tools',\n",
       "       'RevoUtils', 'stats', 'graphics', 'grDevices', 'utils', 'datasets',\n",
       "       'RevoUtilsMath', 'methods', 'base'], dtype='<U13')"
      ]
     },
     "execution_count": 29,
     "metadata": {},
     "output_type": "execute_result"
    }
   ],
   "source": [
    "robjects.r('library(synthpop)')"
   ]
  },
  {
   "cell_type": "code",
   "execution_count": 30,
   "metadata": {},
   "outputs": [],
   "source": [
    "robjects.globalenv['train'] = train"
   ]
  },
  {
   "cell_type": "code",
   "execution_count": 31,
   "metadata": {},
   "outputs": [
    {
     "name": "stdout",
     "output_type": "stream",
     "text": [
      "\n",
      "Variable(s):\n",
      " \n",
      "DSI, blind_head, blind_spouse, n1820, n21, mcare_ben, nu05, elderly_dependents, EIC, MARS\n",
      " \n",
      "have been changed from character to factor.\n",
      "\n",
      "\n",
      "Variables \n",
      "\n",
      "nu13, f2441\n",
      "\n",
      " are collinear.\n",
      "\n",
      "\n",
      "Variables later in visit.sequence are derived from \n",
      "\n",
      "nu13\n",
      "\n",
      ".\n",
      "\n",
      "\n",
      "Variables \n",
      "\n",
      "e19800, e20100\n",
      "\n",
      " are collinear.\n",
      "\n",
      "\n",
      "Variables later in visit.sequence are derived from \n",
      "\n",
      "e19800\n",
      "\n",
      ".\n",
      "\n",
      "syn  variables\n",
      "\n",
      "\n",
      "\n",
      "1\n",
      "\n",
      "   \n",
      " \n",
      "\n",
      "age_head\n",
      " \n",
      "\n",
      "age_spouse\n",
      " \n",
      "\n",
      "e00200p\n",
      " \n",
      "\n",
      "e00900p\n",
      " \n",
      "\n",
      "e02100p\n",
      " \n",
      "\n",
      "e00200s\n",
      " \n",
      "\n",
      "e00900s\n",
      " \n",
      "\n",
      "e02100s\n",
      " \n",
      "\n",
      "e00600\n",
      " \n",
      "\n",
      "e00800\n",
      "\n",
      "    \n",
      " \n",
      "\n",
      "e01500\n",
      " \n",
      "\n",
      "e02300\n",
      " \n",
      "\n",
      "s006\n",
      " \n",
      "\n",
      "DSI\n",
      " \n",
      "\n",
      "blind_head\n",
      " \n",
      "\n",
      "blind_spouse\n",
      " \n",
      "\n",
      "nu18\n",
      " \n",
      "\n",
      "n1820\n",
      " \n",
      "\n",
      "n21\n",
      " \n",
      "\n",
      "ssi_ben\n",
      "\n",
      "    \n",
      " \n",
      "\n",
      "vet_ben\n",
      " \n",
      "\n",
      "snap_ben\n",
      " \n",
      "\n",
      "mcare_ben\n",
      " \n",
      "\n",
      "mcaid_ben\n",
      " \n",
      "\n",
      "e02400\n",
      " \n",
      "\n",
      "tanf_ben\n",
      " \n",
      "\n",
      "housing_ben\n",
      " \n",
      "\n",
      "wic_ben\n",
      " \n",
      "\n",
      "nu13\n",
      " \n",
      "\n",
      "nu05\n",
      "\n",
      "    \n",
      " \n",
      "\n",
      "n24\n",
      " \n",
      "\n",
      "elderly_dependents\n",
      " \n",
      "\n",
      "f2441\n",
      " \n",
      "\n",
      "EIC\n",
      " \n",
      "\n",
      "XTOT\n",
      " \n",
      "\n",
      "MARS\n",
      " \n",
      "\n",
      "e01100\n",
      " \n",
      "\n",
      "e01400\n",
      " \n",
      "\n",
      "e03300\n",
      " \n",
      "\n",
      "e03270\n",
      "\n",
      "    \n",
      " \n",
      "\n",
      "e20400\n",
      " \n",
      "\n",
      "e32800\n",
      " \n",
      "\n",
      "e19200\n",
      " \n",
      "\n",
      "e18500\n",
      " \n",
      "\n",
      "e03240\n",
      " \n",
      "\n",
      "e17500\n",
      " \n",
      "\n",
      "e18400\n",
      " \n",
      "\n",
      "e00900\n",
      " \n",
      "\n",
      "e00650\n",
      " \n",
      "\n",
      "e00300\n",
      "\n",
      "    \n",
      " \n",
      "\n",
      "e00400\n",
      " \n",
      "\n",
      "e01700\n",
      " \n",
      "\n",
      "e19800\n",
      " \n",
      "\n",
      "e20100\n",
      " \n",
      "\n",
      "e03210\n",
      " \n",
      "\n",
      "e03150\n",
      " \n",
      "\n",
      "other_ben\n",
      " \n",
      "\n",
      "e00200\n",
      " \n",
      "\n",
      "e02100\n",
      "\n",
      "\n",
      "CPU times: user 1h 8min 1s, sys: 32.3 s, total: 1h 8min 34s\n",
      "Wall time: 1h 8min 16s\n"
     ]
    }
   ],
   "source": [
    "%%time\n",
    "synth_synthpop = robjects.r('syn(train)$syn')"
   ]
  },
  {
   "cell_type": "code",
   "execution_count": 32,
   "metadata": {},
   "outputs": [
    {
     "data": {
      "text/plain": [
       "age_head                  42\n",
       "age_spouse                 0\n",
       "e00200p                    0\n",
       "e00900p                    0\n",
       "e02100p                    0\n",
       "e00200s                    0\n",
       "e00900s                    0\n",
       "e02100s                    0\n",
       "e00600                     0\n",
       "e00800                     0\n",
       "e01500                     0\n",
       "e02300                     0\n",
       "s006                  119900\n",
       "DSI                        0\n",
       "blind_head                 0\n",
       "blind_spouse               0\n",
       "nu18                       0\n",
       "n1820                      0\n",
       "n21                        1\n",
       "ssi_ben                12685\n",
       "vet_ben                    0\n",
       "snap_ben                3668\n",
       "mcare_ben                  0\n",
       "mcaid_ben               7031\n",
       "e02400                     0\n",
       "tanf_ben                   0\n",
       "housing_ben             8677\n",
       "wic_ben                    0\n",
       "nu13                       0\n",
       "nu05                       0\n",
       "n24                        0\n",
       "elderly_dependents         0\n",
       "f2441                      0\n",
       "EIC                        0\n",
       "XTOT                       1\n",
       "MARS                       1\n",
       "e01100                     0\n",
       "e01400                     0\n",
       "e03300                     0\n",
       "e03270                     0\n",
       "e20400                     0\n",
       "e32800                     0\n",
       "e19200                     0\n",
       "e18500                     0\n",
       "e03240                     0\n",
       "e17500                     0\n",
       "e18400                  1676\n",
       "e00900                     0\n",
       "e00650                     0\n",
       "e00300                    55\n",
       "e00400                     0\n",
       "e01700                     0\n",
       "e19800                     0\n",
       "e20100                     0\n",
       "e03210                     0\n",
       "e03150                     0\n",
       "other_ben               8589\n",
       "e00200                     0\n",
       "e02100                     0\n",
       "Name: 387379, dtype: object"
      ]
     },
     "execution_count": 32,
     "metadata": {},
     "output_type": "execute_result"
    }
   ],
   "source": [
    "synth_synthpop.iloc[0]"
   ]
  },
  {
   "cell_type": "code",
   "execution_count": 33,
   "metadata": {},
   "outputs": [
    {
     "data": {
      "text/html": [
       "<div>\n",
       "<style scoped>\n",
       "    .dataframe tbody tr th:only-of-type {\n",
       "        vertical-align: middle;\n",
       "    }\n",
       "\n",
       "    .dataframe tbody tr th {\n",
       "        vertical-align: top;\n",
       "    }\n",
       "\n",
       "    .dataframe thead th {\n",
       "        text-align: right;\n",
       "    }\n",
       "</style>\n",
       "<table border=\"1\" class=\"dataframe\">\n",
       "  <thead>\n",
       "    <tr style=\"text-align: right;\">\n",
       "      <th></th>\n",
       "      <th>age_head</th>\n",
       "      <th>age_spouse</th>\n",
       "      <th>e00200p</th>\n",
       "      <th>e00900p</th>\n",
       "      <th>e02100p</th>\n",
       "      <th>e00200s</th>\n",
       "      <th>e00900s</th>\n",
       "      <th>e02100s</th>\n",
       "      <th>e00600</th>\n",
       "      <th>e00800</th>\n",
       "      <th>...</th>\n",
       "      <th>e00300</th>\n",
       "      <th>e00400</th>\n",
       "      <th>e01700</th>\n",
       "      <th>e19800</th>\n",
       "      <th>e20100</th>\n",
       "      <th>e03210</th>\n",
       "      <th>e03150</th>\n",
       "      <th>other_ben</th>\n",
       "      <th>e00200</th>\n",
       "      <th>e02100</th>\n",
       "    </tr>\n",
       "  </thead>\n",
       "  <tbody>\n",
       "    <tr>\n",
       "      <th>387379</th>\n",
       "      <td>42</td>\n",
       "      <td>0.0</td>\n",
       "      <td>0.0</td>\n",
       "      <td>0.0</td>\n",
       "      <td>0.0</td>\n",
       "      <td>0.0</td>\n",
       "      <td>0.0</td>\n",
       "      <td>0.0</td>\n",
       "      <td>0.0</td>\n",
       "      <td>0.0</td>\n",
       "      <td>...</td>\n",
       "      <td>55.0</td>\n",
       "      <td>0.0</td>\n",
       "      <td>0.0</td>\n",
       "      <td>0.0</td>\n",
       "      <td>0</td>\n",
       "      <td>0.0</td>\n",
       "      <td>0.0</td>\n",
       "      <td>8589.0</td>\n",
       "      <td>0.0</td>\n",
       "      <td>0.0</td>\n",
       "    </tr>\n",
       "    <tr>\n",
       "      <th>281216</th>\n",
       "      <td>72</td>\n",
       "      <td>78.0</td>\n",
       "      <td>0.0</td>\n",
       "      <td>0.0</td>\n",
       "      <td>0.0</td>\n",
       "      <td>0.0</td>\n",
       "      <td>0.0</td>\n",
       "      <td>0.0</td>\n",
       "      <td>0.0</td>\n",
       "      <td>0.0</td>\n",
       "      <td>...</td>\n",
       "      <td>0.0</td>\n",
       "      <td>0.0</td>\n",
       "      <td>0.0</td>\n",
       "      <td>0.0</td>\n",
       "      <td>0</td>\n",
       "      <td>0.0</td>\n",
       "      <td>0.0</td>\n",
       "      <td>0.0</td>\n",
       "      <td>0.0</td>\n",
       "      <td>0.0</td>\n",
       "    </tr>\n",
       "    <tr>\n",
       "      <th>404626</th>\n",
       "      <td>74</td>\n",
       "      <td>0.0</td>\n",
       "      <td>0.0</td>\n",
       "      <td>0.0</td>\n",
       "      <td>0.0</td>\n",
       "      <td>0.0</td>\n",
       "      <td>0.0</td>\n",
       "      <td>0.0</td>\n",
       "      <td>0.0</td>\n",
       "      <td>0.0</td>\n",
       "      <td>...</td>\n",
       "      <td>542.0</td>\n",
       "      <td>0.0</td>\n",
       "      <td>0.0</td>\n",
       "      <td>0.0</td>\n",
       "      <td>0</td>\n",
       "      <td>0.0</td>\n",
       "      <td>0.0</td>\n",
       "      <td>9948.0</td>\n",
       "      <td>0.0</td>\n",
       "      <td>0.0</td>\n",
       "    </tr>\n",
       "    <tr>\n",
       "      <th>220030</th>\n",
       "      <td>36</td>\n",
       "      <td>36.0</td>\n",
       "      <td>85392.0</td>\n",
       "      <td>0.0</td>\n",
       "      <td>0.0</td>\n",
       "      <td>108090.0</td>\n",
       "      <td>0.0</td>\n",
       "      <td>0.0</td>\n",
       "      <td>0.0</td>\n",
       "      <td>0.0</td>\n",
       "      <td>...</td>\n",
       "      <td>2743.0</td>\n",
       "      <td>0.0</td>\n",
       "      <td>0.0</td>\n",
       "      <td>0.0</td>\n",
       "      <td>0</td>\n",
       "      <td>99.0</td>\n",
       "      <td>0.0</td>\n",
       "      <td>0.0</td>\n",
       "      <td>186925.0</td>\n",
       "      <td>0.0</td>\n",
       "    </tr>\n",
       "    <tr>\n",
       "      <th>240671</th>\n",
       "      <td>66</td>\n",
       "      <td>0.0</td>\n",
       "      <td>19892.0</td>\n",
       "      <td>0.0</td>\n",
       "      <td>0.0</td>\n",
       "      <td>0.0</td>\n",
       "      <td>0.0</td>\n",
       "      <td>0.0</td>\n",
       "      <td>0.0</td>\n",
       "      <td>0.0</td>\n",
       "      <td>...</td>\n",
       "      <td>0.0</td>\n",
       "      <td>0.0</td>\n",
       "      <td>0.0</td>\n",
       "      <td>0.0</td>\n",
       "      <td>0</td>\n",
       "      <td>0.0</td>\n",
       "      <td>0.0</td>\n",
       "      <td>5744.0</td>\n",
       "      <td>35520.0</td>\n",
       "      <td>0.0</td>\n",
       "    </tr>\n",
       "  </tbody>\n",
       "</table>\n",
       "<p>5 rows × 59 columns</p>\n",
       "</div>"
      ],
      "text/plain": [
       "        age_head  age_spouse  e00200p  e00900p  e02100p   e00200s  e00900s  \\\n",
       "387379        42         0.0      0.0      0.0      0.0       0.0      0.0   \n",
       "281216        72        78.0      0.0      0.0      0.0       0.0      0.0   \n",
       "404626        74         0.0      0.0      0.0      0.0       0.0      0.0   \n",
       "220030        36        36.0  85392.0      0.0      0.0  108090.0      0.0   \n",
       "240671        66         0.0  19892.0      0.0      0.0       0.0      0.0   \n",
       "\n",
       "        e02100s  e00600  e00800   ...    e00300  e00400  e01700 e19800 e20100  \\\n",
       "387379      0.0     0.0     0.0   ...      55.0     0.0     0.0    0.0      0   \n",
       "281216      0.0     0.0     0.0   ...       0.0     0.0     0.0    0.0      0   \n",
       "404626      0.0     0.0     0.0   ...     542.0     0.0     0.0    0.0      0   \n",
       "220030      0.0     0.0     0.0   ...    2743.0     0.0     0.0    0.0      0   \n",
       "240671      0.0     0.0     0.0   ...       0.0     0.0     0.0    0.0      0   \n",
       "\n",
       "       e03210  e03150 other_ben    e00200  e02100  \n",
       "387379    0.0     0.0    8589.0       0.0     0.0  \n",
       "281216    0.0     0.0       0.0       0.0     0.0  \n",
       "404626    0.0     0.0    9948.0       0.0     0.0  \n",
       "220030   99.0     0.0       0.0  186925.0     0.0  \n",
       "240671    0.0     0.0    5744.0   35520.0     0.0  \n",
       "\n",
       "[5 rows x 59 columns]"
      ]
     },
     "execution_count": 33,
     "metadata": {},
     "output_type": "execute_result"
    }
   ],
   "source": [
    "synth_synthpop.head()"
   ]
  },
  {
   "cell_type": "code",
   "execution_count": 34,
   "metadata": {},
   "outputs": [],
   "source": [
    "synth_synthpop.to_csv('synth_synthpop.csv')"
   ]
  },
  {
   "cell_type": "code",
   "execution_count": 35,
   "metadata": {},
   "outputs": [
    {
     "data": {
      "text/plain": [
       "age_head                int32\n",
       "age_spouse            float64\n",
       "e00200p               float64\n",
       "e00900p               float64\n",
       "e02100p               float64\n",
       "e00200s               float64\n",
       "e00900s               float64\n",
       "e02100s               float64\n",
       "e00600                float64\n",
       "e00800                float64\n",
       "e01500                float64\n",
       "e02300                float64\n",
       "s006                  float64\n",
       "DSI                    object\n",
       "blind_head             object\n",
       "blind_spouse           object\n",
       "nu18                  float64\n",
       "n1820                  object\n",
       "n21                    object\n",
       "ssi_ben               float64\n",
       "vet_ben               float64\n",
       "snap_ben              float64\n",
       "mcare_ben              object\n",
       "mcaid_ben             float64\n",
       "e02400                float64\n",
       "tanf_ben              float64\n",
       "housing_ben           float64\n",
       "wic_ben               float64\n",
       "nu13                  float64\n",
       "nu05                   object\n",
       "n24                   float64\n",
       "elderly_dependents     object\n",
       "f2441                   int32\n",
       "EIC                    object\n",
       "XTOT                  float64\n",
       "MARS                   object\n",
       "e01100                float64\n",
       "e01400                float64\n",
       "e03300                float64\n",
       "e03270                float64\n",
       "e20400                float64\n",
       "e32800                float64\n",
       "e19200                float64\n",
       "e18500                float64\n",
       "e03240                float64\n",
       "e17500                float64\n",
       "e18400                float64\n",
       "e00900                float64\n",
       "e00650                float64\n",
       "e00300                float64\n",
       "e00400                float64\n",
       "e01700                float64\n",
       "e19800                float64\n",
       "e20100                  int32\n",
       "e03210                float64\n",
       "e03150                float64\n",
       "other_ben             float64\n",
       "e00200                float64\n",
       "e02100                float64\n",
       "dtype: object"
      ]
     },
     "execution_count": 35,
     "metadata": {},
     "output_type": "execute_result"
    }
   ],
   "source": [
    "synth_synthpop.dtypes"
   ]
  },
  {
   "cell_type": "code",
   "execution_count": null,
   "metadata": {},
   "outputs": [],
   "source": []
  }
 ],
 "metadata": {
  "colab": {
   "collapsed_sections": [],
   "name": "synthetic_cps_sample.ipynb",
   "provenance": [],
   "version": "0.3.2"
  },
  "kernelspec": {
   "display_name": "Python 3",
   "language": "python",
   "name": "python3"
  },
  "language_info": {
   "codemirror_mode": {
    "name": "ipython",
    "version": 3
   },
   "file_extension": ".py",
   "mimetype": "text/x-python",
   "name": "python",
   "nbconvert_exporter": "python",
   "pygments_lexer": "ipython3",
   "version": "3.6.6"
  }
 },
 "nbformat": 4,
 "nbformat_minor": 1
}
